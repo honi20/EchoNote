{
 "cells": [
  {
   "cell_type": "markdown",
   "id": "820dfadc-8d36-48e8-b936-30158fe7e8e1",
   "metadata": {},
   "source": [
    "# 1. 라이브러리 import"
   ]
  },
  {
   "cell_type": "markdown",
   "id": "db42d201-3acb-474a-99a2-bcca57fd8d46",
   "metadata": {},
   "source": [
    "## 1) 모델 관련"
   ]
  },
  {
   "cell_type": "code",
   "execution_count": 1,
   "id": "a4628d9c-2556-4366-9f3e-fe6dfa8dfa03",
   "metadata": {},
   "outputs": [
    {
     "name": "stderr",
     "output_type": "stream",
     "text": [
      "2024-10-23 09:54:51.395776: E external/local_xla/xla/stream_executor/cuda/cuda_fft.cc:485] Unable to register cuFFT factory: Attempting to register factory for plugin cuFFT when one has already been registered\n",
      "2024-10-23 09:54:51.415090: E external/local_xla/xla/stream_executor/cuda/cuda_dnn.cc:8454] Unable to register cuDNN factory: Attempting to register factory for plugin cuDNN when one has already been registered\n",
      "2024-10-23 09:54:51.420720: E external/local_xla/xla/stream_executor/cuda/cuda_blas.cc:1452] Unable to register cuBLAS factory: Attempting to register factory for plugin cuBLAS when one has already been registered\n",
      "2024-10-23 09:54:51.435410: I tensorflow/core/platform/cpu_feature_guard.cc:210] This TensorFlow binary is optimized to use available CPU instructions in performance-critical operations.\n",
      "To enable the following instructions: SSE4.1 SSE4.2 AVX AVX2 AVX512F FMA, in other operations, rebuild TensorFlow with the appropriate compiler flags.\n"
     ]
    }
   ],
   "source": [
    "import os\n",
    "\n",
    "# 음성 데이터 처리\n",
    "import librosa\n",
    "import numpy as np\n",
    "import pandas as pd\n",
    "\n",
    "# 데이터 시각화\n",
    "from matplotlib import pyplot as plt\n",
    "\n",
    "# 모델 관련\n",
    "import sklearn\n",
    "from sklearn import preprocessing # AttributeError: module 'sklearn' has no attribute 'preprocessing'\n",
    "import tensorflow as tf"
   ]
  },
  {
   "cell_type": "markdown",
   "id": "955e09a9-73d9-4090-a9ed-dad6b65df928",
   "metadata": {},
   "source": [
    "## 2) 음성 강세 분석 모델 사용을 위한 라이브러리"
   ]
  },
  {
   "cell_type": "code",
   "execution_count": 2,
   "id": "9df00e11-6764-4504-84c7-c52daea2f45a",
   "metadata": {},
   "outputs": [
    {
     "name": "stdout",
     "output_type": "stream",
     "text": [
      "importing Jupyter notebook from voice_strength.ipynb\n"
     ]
    },
    {
     "name": "stderr",
     "output_type": "stream",
     "text": [
      "WARNING: All log messages before absl::InitializeLog() is called are written to STDERR\n",
      "I0000 00:00:1729644893.576785 3867670 cuda_executor.cc:1015] successful NUMA node read from SysFS had negative value (-1), but there must be at least one NUMA node, so returning NUMA node zero. See more at https://github.com/torvalds/linux/blob/v6.0/Documentation/ABI/testing/sysfs-bus-pci#L344-L355\n",
      "I0000 00:00:1729644893.649880 3867670 cuda_executor.cc:1015] successful NUMA node read from SysFS had negative value (-1), but there must be at least one NUMA node, so returning NUMA node zero. See more at https://github.com/torvalds/linux/blob/v6.0/Documentation/ABI/testing/sysfs-bus-pci#L344-L355\n",
      "I0000 00:00:1729644893.650492 3867670 cuda_executor.cc:1015] successful NUMA node read from SysFS had negative value (-1), but there must be at least one NUMA node, so returning NUMA node zero. See more at https://github.com/torvalds/linux/blob/v6.0/Documentation/ABI/testing/sysfs-bus-pci#L344-L355\n",
      "I0000 00:00:1729644893.848292 3867670 cuda_executor.cc:1015] successful NUMA node read from SysFS had negative value (-1), but there must be at least one NUMA node, so returning NUMA node zero. See more at https://github.com/torvalds/linux/blob/v6.0/Documentation/ABI/testing/sysfs-bus-pci#L344-L355\n",
      "I0000 00:00:1729644893.848911 3867670 cuda_executor.cc:1015] successful NUMA node read from SysFS had negative value (-1), but there must be at least one NUMA node, so returning NUMA node zero. See more at https://github.com/torvalds/linux/blob/v6.0/Documentation/ABI/testing/sysfs-bus-pci#L344-L355\n",
      "I0000 00:00:1729644893.849443 3867670 cuda_executor.cc:1015] successful NUMA node read from SysFS had negative value (-1), but there must be at least one NUMA node, so returning NUMA node zero. See more at https://github.com/torvalds/linux/blob/v6.0/Documentation/ABI/testing/sysfs-bus-pci#L344-L355\n",
      "2024-10-23 09:54:53.849938: I tensorflow/core/common_runtime/gpu/gpu_device.cc:2021] Created device /job:localhost/replica:0/task:0/device:GPU:0 with 31131 MB memory:  -> device: 0, name: Tesla V100-PCIE-32GB, pci bus id: 0000:04:00.0, compute capability: 7.0\n",
      "I0000 00:00:1729644893.855095 3867670 cuda_executor.cc:1015] successful NUMA node read from SysFS had negative value (-1), but there must be at least one NUMA node, so returning NUMA node zero. See more at https://github.com/torvalds/linux/blob/v6.0/Documentation/ABI/testing/sysfs-bus-pci#L344-L355\n",
      "I0000 00:00:1729644893.856290 3867670 cuda_executor.cc:1015] successful NUMA node read from SysFS had negative value (-1), but there must be at least one NUMA node, so returning NUMA node zero. See more at https://github.com/torvalds/linux/blob/v6.0/Documentation/ABI/testing/sysfs-bus-pci#L344-L355\n",
      "I0000 00:00:1729644893.856779 3867670 cuda_executor.cc:1015] successful NUMA node read from SysFS had negative value (-1), but there must be at least one NUMA node, so returning NUMA node zero. See more at https://github.com/torvalds/linux/blob/v6.0/Documentation/ABI/testing/sysfs-bus-pci#L344-L355\n",
      "I0000 00:00:1729644893.866544 3867670 cuda_executor.cc:1015] successful NUMA node read from SysFS had negative value (-1), but there must be at least one NUMA node, so returning NUMA node zero. See more at https://github.com/torvalds/linux/blob/v6.0/Documentation/ABI/testing/sysfs-bus-pci#L344-L355\n",
      "I0000 00:00:1729644893.867118 3867670 cuda_executor.cc:1015] successful NUMA node read from SysFS had negative value (-1), but there must be at least one NUMA node, so returning NUMA node zero. See more at https://github.com/torvalds/linux/blob/v6.0/Documentation/ABI/testing/sysfs-bus-pci#L344-L355\n",
      "I0000 00:00:1729644893.867606 3867670 cuda_executor.cc:1015] successful NUMA node read from SysFS had negative value (-1), but there must be at least one NUMA node, so returning NUMA node zero. See more at https://github.com/torvalds/linux/blob/v6.0/Documentation/ABI/testing/sysfs-bus-pci#L344-L355\n",
      "I0000 00:00:1729644893.868139 3867670 cuda_executor.cc:1015] successful NUMA node read from SysFS had negative value (-1), but there must be at least one NUMA node, so returning NUMA node zero. See more at https://github.com/torvalds/linux/blob/v6.0/Documentation/ABI/testing/sysfs-bus-pci#L344-L355\n",
      "I0000 00:00:1729644893.868640 3867670 cuda_executor.cc:1015] successful NUMA node read from SysFS had negative value (-1), but there must be at least one NUMA node, so returning NUMA node zero. See more at https://github.com/torvalds/linux/blob/v6.0/Documentation/ABI/testing/sysfs-bus-pci#L344-L355\n",
      "2024-10-23 09:54:53.869101: I tensorflow/core/common_runtime/gpu/gpu_device.cc:2021] Created device /job:localhost/replica:0/task:0/device:GPU:0 with 31131 MB memory:  -> device: 0, name: Tesla V100-PCIE-32GB, pci bus id: 0000:04:00.0, compute capability: 7.0\n"
     ]
    },
    {
     "name": "stdout",
     "output_type": "stream",
     "text": [
      "Num GPUs Available:  1\n"
     ]
    }
   ],
   "source": [
    "import import_ipynb\n",
    "import voice_strength"
   ]
  },
  {
   "cell_type": "markdown",
   "id": "9c8a4eff-4f97-44e6-b3a4-b4bc94113431",
   "metadata": {},
   "source": [
    "## 3) whisper 사용을 위한 라이브러리"
   ]
  },
  {
   "cell_type": "code",
   "execution_count": 3,
   "id": "48db29e3-a3b7-4138-b035-ace856fc9b01",
   "metadata": {},
   "outputs": [],
   "source": [
    "import whisper\n",
    "import torch\n",
    "import threading\n",
    "import queue"
   ]
  },
  {
   "cell_type": "markdown",
   "id": "b29e2cab-e800-42aa-85e9-8d97f1aa4ab0",
   "metadata": {},
   "source": [
    "## 4) 플라스크 서버 구축을 위한 라이브러리"
   ]
  },
  {
   "cell_type": "code",
   "execution_count": 4,
   "id": "a3c51a96-15b8-4cf8-8e63-3e5cf9f124cf",
   "metadata": {},
   "outputs": [],
   "source": [
    "import tempfile\n",
    "import logging\n",
    "from flask import Flask, request, jsonify\n",
    "import requests\n",
    "from flask_restx import Api, Resource, fields, marshal\n",
    "import signal\n",
    "from datetime import datetime"
   ]
  },
  {
   "cell_type": "markdown",
   "id": "5a27aeda-9bdf-47c2-975a-5fb2674b583e",
   "metadata": {},
   "source": [
    "# 2. GPU 사용 확인"
   ]
  },
  {
   "cell_type": "code",
   "execution_count": 5,
   "id": "6f52d806-2567-4a87-954e-5f5fd5820b25",
   "metadata": {},
   "outputs": [
    {
     "name": "stdout",
     "output_type": "stream",
     "text": [
      "Num GPUs Available:  1\n",
      "[PhysicalDevice(name='/physical_device:GPU:0', device_type='GPU')]\n"
     ]
    }
   ],
   "source": [
    "print(\"Num GPUs Available: \", len(tf.config.list_physical_devices('GPU')))\n",
    "print(tf.config.list_physical_devices('GPU'))"
   ]
  },
  {
   "cell_type": "markdown",
   "id": "f8b03cf9-1e79-4843-a96c-668a628c7225",
   "metadata": {},
   "source": [
    "# 3. 이것 저것 설정"
   ]
  },
  {
   "cell_type": "code",
   "execution_count": 6,
   "id": "f1653e51-2461-44eb-8df6-5a3e2b20610b",
   "metadata": {},
   "outputs": [],
   "source": [
    "torch.cuda.empty_cache()"
   ]
  },
  {
   "cell_type": "code",
   "execution_count": 7,
   "id": "a4cc0fdd-72b3-4583-ab12-c3f86e8a5ae7",
   "metadata": {},
   "outputs": [],
   "source": [
    "task_queue = queue.Queue()\n",
    "results = {}\n",
    "\n",
    "num_worker_threads = 1\n",
    "\n",
    "S_presigned_url = 'objectUrl'\n",
    "S_note_id = 'noteId'\n",
    "C_process_id = 'processId'\n",
    "backEnd_URL = \"http://REMOVED:8080/voice/sttResult\"\n",
    "\n",
    "shutdown_flag = threading.Event()"
   ]
  },
  {
   "cell_type": "markdown",
   "id": "0db6500b-4321-4c13-8783-6c31519c0c63",
   "metadata": {},
   "source": [
    "# 4. 서버 구축"
   ]
  },
  {
   "cell_type": "markdown",
   "id": "10ed850b-7688-46d0-9828-67ad454a87de",
   "metadata": {},
   "source": [
    "## 1) 로그 설정"
   ]
  },
  {
   "cell_type": "code",
   "execution_count": 8,
   "id": "f63d3802-209c-4cf5-9c26-c8675569cbad",
   "metadata": {},
   "outputs": [],
   "source": [
    "logging.basicConfig(level=logging.INFO)\n",
    "logger = logging.getLogger(__name__)"
   ]
  },
  {
   "cell_type": "markdown",
   "id": "bb703363-7663-4e74-a62e-a0cec00f5c47",
   "metadata": {},
   "source": [
    "## 2) 스레드 설정"
   ]
  },
  {
   "cell_type": "code",
   "execution_count": 9,
   "id": "d23b00b2-2157-4638-8300-bd6446512930",
   "metadata": {},
   "outputs": [],
   "source": [
    "def worker(thread_id):\n",
    "    logger.info(f\"Worker {thread_id} starting, loading Whisper model...\")\n",
    "    model = whisper.load_model(\"large-v3\")  # Adjust the model size as needed\n",
    "    logger.info(f\"Worker {thread_id} loaded Whisper model.\")\n",
    "\n",
    "    while not shutdown_flag.is_set():  # Check for shutdown signal\n",
    "        try:\n",
    "            data = task_queue.get(timeout=1)  # 딕셔너리에서 값 꺼내기\n",
    "            note_id = data[\"note_id\"]\n",
    "            temp_audio_path = data[\"temp_audio_path\"]\n",
    "            process_id = data[\"process_id\"]\n",
    "            \n",
    "        except queue.Empty:\n",
    "            continue\n",
    "        \n",
    "        if note_id is None:\n",
    "            break\n",
    "\n",
    "        logger.info(f\"Worker {thread_id} processing task {note_id}\")\n",
    "        \n",
    "        try:\n",
    "            result = model.transcribe(temp_audio_path)  # temp_audio_path를 사용해야 합니다\n",
    "            send_result_to_spring(note_id, process_id, result['segments'])\n",
    "        except Exception as e:\n",
    "            logger.error(f\"Worker {thread_id} encountered an error: {str(e)}\")\n",
    "            # results[note_id] = {\"status\": \"failed\", \"error\": str(e)}\n",
    "        finally:\n",
    "            os.remove(temp_audio_path)  # temp_audio_path로 변경\n",
    "            if torch.cuda.is_available():\n",
    "                torch.cuda.empty_cache()\n",
    "\n",
    "        task_queue.task_done()"
   ]
  },
  {
   "cell_type": "code",
   "execution_count": 10,
   "id": "276ab72c-0f4c-48c9-89e9-e508d1e55cee",
   "metadata": {},
   "outputs": [
    {
     "name": "stderr",
     "output_type": "stream",
     "text": [
      "INFO:__main__:Worker 0 starting, loading Whisper model...\n",
      "/home/j-j11a210/.local/lib/python3.10/site-packages/whisper/__init__.py:146: FutureWarning: You are using `torch.load` with `weights_only=False` (the current default value), which uses the default pickle module implicitly. It is possible to construct malicious pickle data which will execute arbitrary code during unpickling (See https://github.com/pytorch/pytorch/blob/main/SECURITY.md#untrusted-models for more details). In a future release, the default value for `weights_only` will be flipped to `True`. This limits the functions that could be executed during unpickling. Arbitrary objects will no longer be allowed to be loaded via this mode unless they are explicitly allowlisted by the user via `torch.serialization.add_safe_globals`. We recommend you start setting `weights_only=True` for any use case where you don't have full control of the loaded file. Please open an issue on GitHub for any issues related to this experimental feature.\n",
      "  checkpoint = torch.load(fp, map_location=device)\n",
      "INFO:__main__:Worker 0 loaded Whisper model.\n"
     ]
    }
   ],
   "source": [
    "threads = []\n",
    "for i in range(num_worker_threads):\n",
    "    t = threading.Thread(target=worker, args=(i,))\n",
    "    t.start()\n",
    "    threads.append(t)"
   ]
  },
  {
   "cell_type": "markdown",
   "id": "bba66eec-1619-4588-8e22-5f2d372c8085",
   "metadata": {},
   "source": [
    "## 2) 라우터 및 swagger 설정"
   ]
  },
  {
   "cell_type": "code",
   "execution_count": 11,
   "id": "ba651299-32d8-4b91-b296-e7317959d165",
   "metadata": {},
   "outputs": [],
   "source": [
    "app = Flask(__name__)\n",
    "\n",
    "# swagger (http://127.0.0.1:5000/api-docs)\n",
    "api = Api(\n",
    "    app,\n",
    "    version='1.0',\n",
    "    title='발화 강세 분석 AI를 위한 API 문서',\n",
    "    description='Swagger 문서',\n",
    "    doc=\"/api-docs\"\n",
    ")\n",
    "\n",
    "voice_api = api.namespace(name='voice', description='발화 분석 관련 API')\n",
    "test_api = api.namespace('voice_stt', description='STT 기능 관련 API')\n",
    "index_api = api.namespace('hello', description='index API')"
   ]
  },
  {
   "cell_type": "markdown",
   "id": "b0a45fca-f541-4aed-8160-c61a431edc07",
   "metadata": {},
   "source": [
    "## 3) dto 정의"
   ]
  },
  {
   "cell_type": "code",
   "execution_count": 12,
   "id": "d6d75c8d-75c1-4c37-95ae-2e2543ce7eec",
   "metadata": {},
   "outputs": [],
   "source": [
    "analysis_request_model = api.model('request', {\n",
    "    'noteId': fields.Integer(readOnly=True, required=True, description='노트 id'), \n",
    "    'objectUrl': fields.String(required=True, description='녹음본이 저장된 위치'),\n",
    "    'processId': fields.String(required=True, description='각 요청에 대한 UUID'),\n",
    "})\n",
    "\n",
    "analysis_response_model = api.model('response', {\n",
    "    'noteId': fields.String(readOnly=True, required=True, description='노트 id'),\n",
    "    'processId': fields.String(required=True, description='각 요청에 대한 UUID'),\n",
    "    'status': fields.String(required=True, description='처리 상태'),\n",
    "})\n",
    "\n",
    "analysis_response_data = {\n",
    "    'noteId': 0,\n",
    "    'processId': '',\n",
    "    'status': '',\n",
    "}\n",
    "\n",
    "base_response = {\n",
    "    'code': 200,\n",
    "    'message': '',\n",
    "    'data': None\n",
    "}\n",
    "\n",
    "# 요청 모델 정의\n",
    "stt_request_model = api.model('STTRequest', {\n",
    "    S_note_id: fields.String(required=True, description='Note ID'),\n",
    "    S_presigned_url: fields.String(required=True, description='Pre-signed URL for audio file'),\n",
    "    C_process_id: fields.String(required=True, description='Process ID')\n",
    "})\n",
    "\n",
    "# 응답 모델 정의\n",
    "stt_response_model = api.model('STTResponse', {\n",
    "    S_note_id: fields.String(description='Note ID'),\n",
    "    C_process_id: fields.String(required=True, description='Process ID'),\n",
    "    'status': fields.String(description='Processing status')\n",
    "})"
   ]
  },
  {
   "cell_type": "markdown",
   "id": "a72c8721-68fc-45ef-af0a-4234f669a5dc",
   "metadata": {},
   "source": [
    "## 4) 컨트롤러"
   ]
  },
  {
   "cell_type": "code",
   "execution_count": 13,
   "id": "84baaddc-454b-4779-aa98-b6491ce2cb8d",
   "metadata": {},
   "outputs": [],
   "source": [
    "@voice_api.route('/')\n",
    "class Index(Resource):\n",
    "    def get(self):\n",
    "        base_response['code'] = 200\n",
    "        base_response['message'] = 'hello'\n",
    "        base_response['data'] = '안녕하'\n",
    "\n",
    "        return jsonify(base_response)"
   ]
  },
  {
   "cell_type": "code",
   "execution_count": 14,
   "id": "ad193229-1980-4dd0-b7fe-5bc400f03932",
   "metadata": {},
   "outputs": [],
   "source": [
    "@test_api.route('/stt')\n",
    "class STT(Resource):\n",
    "\n",
    "    @api.expect(stt_request_model)  # 요청 모델을 Swagger에 추가\n",
    "    @api.marshal_with(stt_response_model)  # 응답 모델을 Swagger에 추가\n",
    "    def post(self):\n",
    "        client_ip = request.remote_addr\n",
    "        logger.info(\"check STT post method's connector: \"+client_ip)\n",
    "\n",
    "\n",
    "        logger.info(\"Received STT request\")\n",
    "\n",
    "        process_id = request.json.get(C_process_id)\n",
    "        audio_uri = request.json.get(S_presigned_url)\n",
    "        note_id = request.json.get(S_note_id)\n",
    "\n",
    "        logger.info(f\"들어온 URL: {audio_uri}\");\n",
    "        logger.info(f\"들어온 URL: {process_id}\");\n",
    "\n",
    "        logger.info(f\"들어온 note_id: {note_id}\");\n",
    "\n",
    "        if not request.json.get(S_presigned_url):\n",
    "            logger.warning(\"No audio file provided in the request\")\n",
    "            return {'error': 'No audio file provided'}, 400\n",
    "\n",
    "        if audio_uri:\n",
    "            try:\n",
    "                logger.info(f\"Downloading audio file from URI: {audio_uri}\")\n",
    "                response = requests.get(audio_uri)\n",
    "                response.raise_for_status()\n",
    "\n",
    "                with tempfile.NamedTemporaryFile(delete=False) as temp_audio:\n",
    "                    temp_audio.write(response.content)\n",
    "                    temp_audio_path = temp_audio.name\n",
    "\n",
    "                logger.info(f\"Audio file downloaded and saved to {temp_audio_path}\")\n",
    "\n",
    "                data = {\n",
    "                    \"note_id\": note_id,\n",
    "                    \"temp_audio_path\": temp_audio_path,\n",
    "                    \"process_id\": process_id\n",
    "                }\n",
    "                task_queue.put(data)\n",
    "\n",
    "                logger.info(f\"Task {note_id} added to the queue\")\n",
    "\n",
    "                return {S_note_id: note_id, \"processId\": process_id, \"status\": \"processing\"}, 202\n",
    "\n",
    "            except requests.exceptions.RequestException as e:\n",
    "                logger.error(f\"Failed to download audio file: {str(e)}\")\n",
    "                return {'error': 'Failed to download audio file'}, 400"
   ]
  },
  {
   "cell_type": "code",
   "execution_count": 15,
   "id": "690038e0-20e6-4d2b-9649-6247b65fe47b",
   "metadata": {},
   "outputs": [],
   "source": [
    "@voice_api.route('/analysis')\n",
    "class Analysis(Resource):\n",
    "    @voice_api.expect(analysis_request_model)  # 요청 모델을 Swagger에 추가\n",
    "    # @api.marshal_with(analysis_response_model)  # 응답 모델을 Swagger에 추가\n",
    "\n",
    "    def post(self):\n",
    "        try:\n",
    "            req = marshal(request.get_json(force=True), analysis_request_model)\n",
    "            print(f\"{datetime.now().time()} {req}\")\n",
    "            \n",
    "            # 유효 범위 처리\n",
    "            if req['noteId'] < 0:\n",
    "                return\n",
    "\n",
    "\n",
    "            audio_url = req['objectUrl']\n",
    "            \n",
    "            if audio_url.strip() != '':\n",
    "                try:\n",
    "                    print(f\"{datetime.now().time()} Downloading audio file from URI: {audio_url}\")\n",
    "                    logger.info(f\"{datetime.now().time()} Downloading audio file from URI: {audio_url}\")\n",
    "                    \n",
    "                    response = requests.get(audio_url) # .wav 파일 다운로드\n",
    "                    response.raise_for_status()  # 오류 발생 시 예외 처리\n",
    "                    \n",
    "                    # 오디오 데이터를 저장할 임시 파일 생성\n",
    "                    with tempfile.NamedTemporaryFile(delete=False) as temp_audio:\n",
    "                        temp_audio.write(response.content)  # 다운로드한 파일 내용을 임시 파일에 저장\n",
    "                        temp_audio_path = temp_audio.name  # 임시 파일 경로 저장\n",
    "\n",
    "                    print(f\"{datetime.now().time()} Audio file downloaded and saved to {temp_audio_path}\")\n",
    "                    logger.info(f\"{datetime.now().time()}  Audio file downloaded and saved to {temp_audio_path}\")\n",
    "\n",
    "\n",
    "\n",
    "                    # time_list = send_analysis_result(req['noteId'], req['processId'], temp_audio_path)\n",
    "                    # analysis_response_data['noteId'] = req['noteId']\n",
    "                    # analysis_response_data['processId'] = req['processId']\n",
    "                    # analysis_response_data['status'] = time_list\n",
    "                    \n",
    "                    # 비동기로 음성 분석 실행\n",
    "                    task_thread = threading.Thread(target=send_analysis_result, args=(req['noteId'], req['processId'], temp_audio_path,))\n",
    "                    task_thread.start()\n",
    "                    \n",
    "                    # 작업 ID와 상태 반환\n",
    "                    analysis_response_data['noteId'] = req['noteId']\n",
    "                    analysis_response_data['processId'] = req['processId']\n",
    "                    analysis_response_data['status'] = 'processing'\n",
    "                    \n",
    "\n",
    "                    return analysis_response_data, 202\n",
    "                    \n",
    "                except requests.exceptions.RequestException as e:\n",
    "                    logger.error(f\"Failed to download audio file: {str(e)}\")\n",
    "                    return jsonify({'error': 'Failed to download audio file'}), 400\n",
    "\n",
    "        except ValueError as e:\n",
    "            base_response['code'] = 400\n",
    "            base_response['message'] = 'error: ' + str(e)\n",
    "            return jsonify(base_response)\n",
    "        \n",
    "        except Exception as e:\n",
    "            base_response['code'] = 500\n",
    "            base_response['message'] = 'error: ' + str(e)\n",
    "            return jsonify(base_response)"
   ]
  },
  {
   "cell_type": "markdown",
   "id": "55e98da3-be4e-4fde-9edc-0d43b33bff85",
   "metadata": {},
   "source": [
    "## 5) 기타 메서드"
   ]
  },
  {
   "cell_type": "code",
   "execution_count": 16,
   "id": "b1d261eb-ddf0-4ed3-9449-95a07647c6ca",
   "metadata": {},
   "outputs": [],
   "source": [
    "# 비동기 작업\n",
    "def send_analysis_result(noteId, processId, audio_path):\n",
    "    second_list = voice_strength.get_abnormal_interval('', [audio_path])\n",
    "\n",
    "    data = {\n",
    "        'id': int(noteId),\n",
    "        'process_id': str(processId),\n",
    "        'anomaly_time': second_list\n",
    "    }\n",
    "    \n",
    "    # 스프링의 /voice/analysisResult api 호출\n",
    "    try:\n",
    "        response = requests.post(\"http://REMOVED:8080/voice/analysisResult\", json=data)\n",
    "        print(f\"{datetime.now().time()} request: {data}\")\n",
    "        print(f\"{datetime.now().time()} responst: {response}\")\n",
    "        response.raise_for_status()\n",
    "    except requests.exceptions.RequestException as e:\n",
    "        print(f\"{datetime.now().time()} 결과 전송 오류: {e}\")"
   ]
  },
  {
   "cell_type": "markdown",
   "id": "517ace5c-1cb4-4296-abe9-a3d04153a37d",
   "metadata": {},
   "source": [
    "## 6) 에러 핸들링"
   ]
  },
  {
   "cell_type": "code",
   "execution_count": 17,
   "id": "a6bb31c0-27aa-4e8c-84c3-de12ec2c1bd5",
   "metadata": {},
   "outputs": [],
   "source": [
    "@app.errorhandler(405)\n",
    "def internal_error(error):\n",
    "    logger.error(f\"Method Not Allowed: {str(error)}\")\n",
    "\n",
    "    base_response['code'] = 405\n",
    "    base_response['message'] = 'Method Not Allowed'\n",
    "\n",
    "    return jsonify(base_response)"
   ]
  },
  {
   "cell_type": "code",
   "execution_count": 18,
   "id": "db8b164b-08f7-40db-b6cc-1e4ec60baa8c",
   "metadata": {},
   "outputs": [],
   "source": [
    "@app.errorhandler(500)\n",
    "def internal_error(error):\n",
    "    logger.error(f\"Internal Server Error: {str(error)}\")\n",
    "    return {\"error\": \"Internal Server Error\"}, 500"
   ]
  },
  {
   "cell_type": "markdown",
   "id": "1b077203-a41d-4e2a-b9e1-73ab61ae572a",
   "metadata": {},
   "source": [
    "## 7) main"
   ]
  },
  {
   "cell_type": "code",
   "execution_count": null,
   "id": "8ad7a9cf-0d0d-4b84-bfd0-fc626bf42d39",
   "metadata": {},
   "outputs": [
    {
     "name": "stdout",
     "output_type": "stream",
     "text": [
      " * Serving Flask app '__main__'\n",
      " * Debug mode: off\n"
     ]
    },
    {
     "name": "stderr",
     "output_type": "stream",
     "text": [
      "INFO:werkzeug:\u001b[31m\u001b[1mWARNING: This is a development server. Do not use it in a production deployment. Use a production WSGI server instead.\u001b[0m\n",
      " * Running on http://127.0.0.1:4998\n",
      "INFO:werkzeug:\u001b[33mPress CTRL+C to quit\u001b[0m\n",
      "INFO:werkzeug:127.0.0.1 - - [23/Oct/2024 09:55:49] \"GET /api-docs HTTP/1.1\" 200 -\n",
      "INFO:werkzeug:127.0.0.1 - - [23/Oct/2024 09:55:49] \"\u001b[36mGET /swaggerui/swagger-ui-standalone-preset.js HTTP/1.1\u001b[0m\" 304 -\n",
      "INFO:werkzeug:127.0.0.1 - - [23/Oct/2024 09:55:49] \"\u001b[36mGET /swaggerui/swagger-ui.css HTTP/1.1\u001b[0m\" 304 -\n",
      "INFO:werkzeug:127.0.0.1 - - [23/Oct/2024 09:55:49] \"\u001b[36mGET /swaggerui/droid-sans.css HTTP/1.1\u001b[0m\" 304 -\n",
      "INFO:werkzeug:127.0.0.1 - - [23/Oct/2024 09:55:49] \"\u001b[36mGET /swaggerui/swagger-ui-bundle.js HTTP/1.1\u001b[0m\" 304 -\n",
      "INFO:werkzeug:127.0.0.1 - - [23/Oct/2024 09:55:50] \"GET /swagger.json HTTP/1.1\" 200 -\n",
      "INFO:werkzeug:127.0.0.1 - - [23/Oct/2024 09:55:50] \"GET /swaggerui/favicon-32x32.png HTTP/1.1\" 200 -\n"
     ]
    }
   ],
   "source": [
    "if __name__ == '__main__':\n",
    "    try:\n",
    "        #public_url = ngrok.connect(port).public_url\n",
    "        #print(public_url)\n",
    "        app.run(port=4998)\n",
    "\n",
    "    finally:\n",
    "        torch.cuda.empty_cache()\n",
    "        handle_shutdown(None, None)\n",
    "        for _ in range(num_worker_threads):\n",
    "            task_queue.put((None, None))\n",
    "        for t in threads:\n",
    "            t.join()"
   ]
  }
 ],
 "metadata": {
  "kernelspec": {
   "display_name": "voice_strength",
   "language": "python",
   "name": "voice_strength"
  },
  "language_info": {
   "codemirror_mode": {
    "name": "ipython",
    "version": 3
   },
   "file_extension": ".py",
   "mimetype": "text/x-python",
   "name": "python",
   "nbconvert_exporter": "python",
   "pygments_lexer": "ipython3",
   "version": "3.10.15"
  }
 },
 "nbformat": 4,
 "nbformat_minor": 5
}
