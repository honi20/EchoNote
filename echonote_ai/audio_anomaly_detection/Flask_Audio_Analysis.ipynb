{
 "cells": [
  {
   "cell_type": "markdown",
   "id": "820dfadc-8d36-48e8-b936-30158fe7e8e1",
   "metadata": {},
   "source": [
    "# 1. 라이브러리 import"
   ]
  },
  {
   "cell_type": "markdown",
   "id": "db42d201-3acb-474a-99a2-bcca57fd8d46",
   "metadata": {},
   "source": [
    "## 1) 모델 관련"
   ]
  },
  {
   "cell_type": "code",
   "execution_count": 1,
   "id": "a4628d9c-2556-4366-9f3e-fe6dfa8dfa03",
   "metadata": {},
   "outputs": [
    {
     "name": "stderr",
     "output_type": "stream",
     "text": [
      "2024-10-11 07:37:49.061689: E external/local_xla/xla/stream_executor/cuda/cuda_fft.cc:485] Unable to register cuFFT factory: Attempting to register factory for plugin cuFFT when one has already been registered\n",
      "2024-10-11 07:37:49.081028: E external/local_xla/xla/stream_executor/cuda/cuda_dnn.cc:8454] Unable to register cuDNN factory: Attempting to register factory for plugin cuDNN when one has already been registered\n",
      "2024-10-11 07:37:49.087786: E external/local_xla/xla/stream_executor/cuda/cuda_blas.cc:1452] Unable to register cuBLAS factory: Attempting to register factory for plugin cuBLAS when one has already been registered\n",
      "2024-10-11 07:37:49.101918: I tensorflow/core/platform/cpu_feature_guard.cc:210] This TensorFlow binary is optimized to use available CPU instructions in performance-critical operations.\n",
      "To enable the following instructions: SSE4.1 SSE4.2 AVX AVX2 AVX512F FMA, in other operations, rebuild TensorFlow with the appropriate compiler flags.\n"
     ]
    }
   ],
   "source": [
    "import os\n",
    "\n",
    "# 음성 데이터 처리\n",
    "import librosa\n",
    "import numpy as np\n",
    "import pandas as pd\n",
    "\n",
    "# 데이터 시각화\n",
    "from matplotlib import pyplot as plt\n",
    "\n",
    "# 모델 관련\n",
    "import sklearn\n",
    "from sklearn import preprocessing # AttributeError: module 'sklearn' has no attribute 'preprocessing'\n",
    "import tensorflow as tf"
   ]
  },
  {
   "cell_type": "markdown",
   "id": "955e09a9-73d9-4090-a9ed-dad6b65df928",
   "metadata": {},
   "source": [
    "## 2) 모델 사용을 위한 라이브러리"
   ]
  },
  {
   "cell_type": "code",
   "execution_count": 2,
   "id": "9df00e11-6764-4504-84c7-c52daea2f45a",
   "metadata": {},
   "outputs": [
    {
     "name": "stdout",
     "output_type": "stream",
     "text": [
      "importing Jupyter notebook from voice_strength.ipynb\n"
     ]
    },
    {
     "name": "stderr",
     "output_type": "stream",
     "text": [
      "WARNING: All log messages before absl::InitializeLog() is called are written to STDERR\n",
      "I0000 00:00:1728599871.105599 1628581 cuda_executor.cc:1015] successful NUMA node read from SysFS had negative value (-1), but there must be at least one NUMA node, so returning NUMA node zero. See more at https://github.com/torvalds/linux/blob/v6.0/Documentation/ABI/testing/sysfs-bus-pci#L344-L355\n",
      "I0000 00:00:1728599871.174488 1628581 cuda_executor.cc:1015] successful NUMA node read from SysFS had negative value (-1), but there must be at least one NUMA node, so returning NUMA node zero. See more at https://github.com/torvalds/linux/blob/v6.0/Documentation/ABI/testing/sysfs-bus-pci#L344-L355\n",
      "I0000 00:00:1728599871.175159 1628581 cuda_executor.cc:1015] successful NUMA node read from SysFS had negative value (-1), but there must be at least one NUMA node, so returning NUMA node zero. See more at https://github.com/torvalds/linux/blob/v6.0/Documentation/ABI/testing/sysfs-bus-pci#L344-L355\n",
      "I0000 00:00:1728599871.327202 1628581 cuda_executor.cc:1015] successful NUMA node read from SysFS had negative value (-1), but there must be at least one NUMA node, so returning NUMA node zero. See more at https://github.com/torvalds/linux/blob/v6.0/Documentation/ABI/testing/sysfs-bus-pci#L344-L355\n",
      "I0000 00:00:1728599871.327868 1628581 cuda_executor.cc:1015] successful NUMA node read from SysFS had negative value (-1), but there must be at least one NUMA node, so returning NUMA node zero. See more at https://github.com/torvalds/linux/blob/v6.0/Documentation/ABI/testing/sysfs-bus-pci#L344-L355\n",
      "I0000 00:00:1728599871.328399 1628581 cuda_executor.cc:1015] successful NUMA node read from SysFS had negative value (-1), but there must be at least one NUMA node, so returning NUMA node zero. See more at https://github.com/torvalds/linux/blob/v6.0/Documentation/ABI/testing/sysfs-bus-pci#L344-L355\n",
      "2024-10-11 07:37:51.328885: I tensorflow/core/common_runtime/gpu/gpu_device.cc:2021] Created device /job:localhost/replica:0/task:0/device:GPU:0 with 11655 MB memory:  -> device: 0, name: Tesla V100-PCIE-32GB, pci bus id: 0000:04:00.0, compute capability: 7.0\n",
      "I0000 00:00:1728599871.333752 1628581 cuda_executor.cc:1015] successful NUMA node read from SysFS had negative value (-1), but there must be at least one NUMA node, so returning NUMA node zero. See more at https://github.com/torvalds/linux/blob/v6.0/Documentation/ABI/testing/sysfs-bus-pci#L344-L355\n",
      "I0000 00:00:1728599871.334335 1628581 cuda_executor.cc:1015] successful NUMA node read from SysFS had negative value (-1), but there must be at least one NUMA node, so returning NUMA node zero. See more at https://github.com/torvalds/linux/blob/v6.0/Documentation/ABI/testing/sysfs-bus-pci#L344-L355\n",
      "I0000 00:00:1728599871.334822 1628581 cuda_executor.cc:1015] successful NUMA node read from SysFS had negative value (-1), but there must be at least one NUMA node, so returning NUMA node zero. See more at https://github.com/torvalds/linux/blob/v6.0/Documentation/ABI/testing/sysfs-bus-pci#L344-L355\n",
      "I0000 00:00:1728599871.343205 1628581 cuda_executor.cc:1015] successful NUMA node read from SysFS had negative value (-1), but there must be at least one NUMA node, so returning NUMA node zero. See more at https://github.com/torvalds/linux/blob/v6.0/Documentation/ABI/testing/sysfs-bus-pci#L344-L355\n",
      "I0000 00:00:1728599871.344296 1628581 cuda_executor.cc:1015] successful NUMA node read from SysFS had negative value (-1), but there must be at least one NUMA node, so returning NUMA node zero. See more at https://github.com/torvalds/linux/blob/v6.0/Documentation/ABI/testing/sysfs-bus-pci#L344-L355\n",
      "I0000 00:00:1728599871.344794 1628581 cuda_executor.cc:1015] successful NUMA node read from SysFS had negative value (-1), but there must be at least one NUMA node, so returning NUMA node zero. See more at https://github.com/torvalds/linux/blob/v6.0/Documentation/ABI/testing/sysfs-bus-pci#L344-L355\n",
      "I0000 00:00:1728599871.345322 1628581 cuda_executor.cc:1015] successful NUMA node read from SysFS had negative value (-1), but there must be at least one NUMA node, so returning NUMA node zero. See more at https://github.com/torvalds/linux/blob/v6.0/Documentation/ABI/testing/sysfs-bus-pci#L344-L355\n",
      "I0000 00:00:1728599871.345810 1628581 cuda_executor.cc:1015] successful NUMA node read from SysFS had negative value (-1), but there must be at least one NUMA node, so returning NUMA node zero. See more at https://github.com/torvalds/linux/blob/v6.0/Documentation/ABI/testing/sysfs-bus-pci#L344-L355\n",
      "2024-10-11 07:37:51.346280: I tensorflow/core/common_runtime/gpu/gpu_device.cc:2021] Created device /job:localhost/replica:0/task:0/device:GPU:0 with 11655 MB memory:  -> device: 0, name: Tesla V100-PCIE-32GB, pci bus id: 0000:04:00.0, compute capability: 7.0\n"
     ]
    },
    {
     "name": "stdout",
     "output_type": "stream",
     "text": [
      "Num GPUs Available:  1\n"
     ]
    }
   ],
   "source": [
    "import import_ipynb\n",
    "import voice_strength"
   ]
  },
  {
   "cell_type": "markdown",
   "id": "b29e2cab-e800-42aa-85e9-8d97f1aa4ab0",
   "metadata": {},
   "source": [
    "## 3) 플라스크 서버 구축을 위한 라이브러리"
   ]
  },
  {
   "cell_type": "code",
   "execution_count": 3,
   "id": "a3c51a96-15b8-4cf8-8e63-3e5cf9f124cf",
   "metadata": {},
   "outputs": [],
   "source": [
    "import tempfile\n",
    "import logging\n",
    "from flask import Flask, request, jsonify\n",
    "import torch\n",
    "import threading\n",
    "import queue\n",
    "import requests\n",
    "from flask_restx import Api, Resource, fields, marshal\n",
    "import signal\n",
    "from datetime import datetime"
   ]
  },
  {
   "cell_type": "markdown",
   "id": "5a27aeda-9bdf-47c2-975a-5fb2674b583e",
   "metadata": {},
   "source": [
    "# 2. GPU 사용 확인"
   ]
  },
  {
   "cell_type": "code",
   "execution_count": 4,
   "id": "6f52d806-2567-4a87-954e-5f5fd5820b25",
   "metadata": {},
   "outputs": [
    {
     "name": "stdout",
     "output_type": "stream",
     "text": [
      "Num GPUs Available:  1\n",
      "[PhysicalDevice(name='/physical_device:GPU:0', device_type='GPU')]\n"
     ]
    }
   ],
   "source": [
    "print(\"Num GPUs Available: \", len(tf.config.list_physical_devices('GPU')))\n",
    "print(tf.config.list_physical_devices('GPU'))"
   ]
  },
  {
   "cell_type": "markdown",
   "id": "f8b03cf9-1e79-4843-a96c-668a628c7225",
   "metadata": {},
   "source": [
    "# 3. 이것 저것 설정"
   ]
  },
  {
   "cell_type": "code",
   "execution_count": 5,
   "id": "f1653e51-2461-44eb-8df6-5a3e2b20610b",
   "metadata": {},
   "outputs": [],
   "source": [
    "torch.cuda.empty_cache()"
   ]
  },
  {
   "cell_type": "markdown",
   "id": "0db6500b-4321-4c13-8783-6c31519c0c63",
   "metadata": {},
   "source": [
    "# 4. 서버 구축"
   ]
  },
  {
   "cell_type": "markdown",
   "id": "627acf16-dd5e-43b7-9f28-efb15156a2cc",
   "metadata": {},
   "source": [
    "## 1) 로그 설정"
   ]
  },
  {
   "cell_type": "code",
   "execution_count": 6,
   "id": "42cfb197-936b-4f3e-9827-1f3d297c151d",
   "metadata": {},
   "outputs": [],
   "source": [
    "logging.basicConfig(level=logging.INFO)\n",
    "logger = logging.getLogger(__name__)"
   ]
  },
  {
   "cell_type": "markdown",
   "id": "bba66eec-1619-4588-8e22-5f2d372c8085",
   "metadata": {},
   "source": [
    "## 2) 라우터 및 swagger 설정"
   ]
  },
  {
   "cell_type": "code",
   "execution_count": 7,
   "id": "ba651299-32d8-4b91-b296-e7317959d165",
   "metadata": {},
   "outputs": [],
   "source": [
    "app = Flask(__name__)\n",
    "\n",
    "# swagger (http://127.0.0.1:5000/api-docs)\n",
    "api = Api(\n",
    "    app,\n",
    "    version='1.0',\n",
    "    title='발화 강세 분석 AI를 위한 API 문서',\n",
    "    description='Swagger 문서',\n",
    "    doc=\"/api-docs\"\n",
    ")\n",
    "\n",
    "voice_api = api.namespace(name='voice', description='발화 분석 관련 API')"
   ]
  },
  {
   "cell_type": "markdown",
   "id": "b0a45fca-f541-4aed-8160-c61a431edc07",
   "metadata": {},
   "source": [
    "## 3) dto 정의"
   ]
  },
  {
   "cell_type": "code",
   "execution_count": 8,
   "id": "d6d75c8d-75c1-4c37-95ae-2e2543ce7eec",
   "metadata": {},
   "outputs": [],
   "source": [
    "analysis_request_model = api.model('request', {\n",
    "    'noteId': fields.Integer(readOnly=True, required=True, description='노트 id'), \n",
    "    'objectUrl': fields.String(required=True, description='녹음본이 저장된 위치'),\n",
    "    'processId': fields.String(required=True, description='각 요청에 대한 UUID'),\n",
    "})\n",
    "\n",
    "analysis_response_model = api.model('response', {\n",
    "    'noteId': fields.String(readOnly=True, required=True, description='노트 id'),\n",
    "    'processId': fields.String(required=True, description='각 요청에 대한 UUID'),\n",
    "    'status': fields.String(required=True, description='처리 상태'),\n",
    "})\n",
    "\n",
    "analysis_response_data = {\n",
    "    'noteId': 0,\n",
    "    'processId': '',\n",
    "    'status': '',\n",
    "}\n",
    "\n",
    "base_response = {\n",
    "    'code': 200,\n",
    "    'message': '',\n",
    "    'data': None\n",
    "}"
   ]
  },
  {
   "cell_type": "code",
   "execution_count": 9,
   "id": "e18fdd86-2d5e-45a8-810c-d9f2af962d56",
   "metadata": {},
   "outputs": [],
   "source": [
    "process_request_queue = []"
   ]
  },
  {
   "cell_type": "markdown",
   "id": "a72c8721-68fc-45ef-af0a-4234f669a5dc",
   "metadata": {},
   "source": [
    "## 4) 컨트롤러"
   ]
  },
  {
   "cell_type": "code",
   "execution_count": 10,
   "id": "84baaddc-454b-4779-aa98-b6491ce2cb8d",
   "metadata": {},
   "outputs": [],
   "source": [
    "@voice_api.route('/')\n",
    "class Index(Resource):\n",
    "    def get(self):\n",
    "        base_response['code'] = 200\n",
    "        base_response['message'] = 'hello'\n",
    "        base_response['data'] = '안녕하'\n",
    "\n",
    "        return jsonify(base_response)"
   ]
  },
  {
   "cell_type": "code",
   "execution_count": 11,
   "id": "690038e0-20e6-4d2b-9649-6247b65fe47b",
   "metadata": {},
   "outputs": [],
   "source": [
    "@voice_api.route('/analysis')\n",
    "class Analysis(Resource):\n",
    "    @voice_api.expect(analysis_request_model)  # 요청 모델을 Swagger에 추가\n",
    "    # @api.marshal_with(analysis_response_model)  # 응답 모델을 Swagger에 추가\n",
    "\n",
    "    def post(self):\n",
    "        try:\n",
    "            req = marshal(request.get_json(force=True), analysis_request_model)\n",
    "            print(f\"{datetime.now().time()} {req}\")\n",
    "            \n",
    "            # 유효 범위 처리\n",
    "            if req['noteId'] < 0:\n",
    "                return\n",
    "\n",
    "\n",
    "            audio_url = req['objectUrl']\n",
    "            \n",
    "            if audio_url.strip() != '':\n",
    "                try:\n",
    "                    print(f\"{datetime.now().time()} Downloading audio file from URI: {audio_url}\")\n",
    "                    logger.info(f\"{datetime.now().time()} Downloading audio file from URI: {audio_url}\")\n",
    "                    \n",
    "                    response = requests.get(audio_url) # .wav 파일 다운로드\n",
    "                    response.raise_for_status()  # 오류 발생 시 예외 처리\n",
    "                    \n",
    "                    # 오디오 데이터를 저장할 임시 파일 생성\n",
    "                    with tempfile.NamedTemporaryFile(delete=False) as temp_audio:\n",
    "                        temp_audio.write(response.content)  # 다운로드한 파일 내용을 임시 파일에 저장\n",
    "                        temp_audio_path = temp_audio.name  # 임시 파일 경로 저장\n",
    "\n",
    "                    print(f\"{datetime.now().time()} Audio file downloaded and saved to {temp_audio_path}\")\n",
    "                    logger.info(f\"{datetime.now().time()}  Audio file downloaded and saved to {temp_audio_path}\")\n",
    "\n",
    "\n",
    "\n",
    "                    # time_list = send_analysis_result(req['noteId'], req['processId'], temp_audio_path)\n",
    "                    # analysis_response_data['noteId'] = req['noteId']\n",
    "                    # analysis_response_data['processId'] = req['processId']\n",
    "                    # analysis_response_data['status'] = time_list\n",
    "                    \n",
    "                    # 비동기로 음성 분석 실행\n",
    "                    task_thread = threading.Thread(target=send_analysis_result, args=(req['noteId'], req['processId'], temp_audio_path,))\n",
    "                    task_thread.start()\n",
    "                    \n",
    "                    # 작업 ID와 상태 반환\n",
    "                    analysis_response_data['noteId'] = req['noteId']\n",
    "                    analysis_response_data['processId'] = req['processId']\n",
    "                    analysis_response_data['status'] = 'processing'\n",
    "                    \n",
    "\n",
    "                    return analysis_response_data, 202\n",
    "                    \n",
    "                except requests.exceptions.RequestException as e:\n",
    "                    logger.error(f\"Failed to download audio file: {str(e)}\")\n",
    "                    return jsonify({'error': 'Failed to download audio file'}), 400\n",
    "\n",
    "        except ValueError as e:\n",
    "            base_response['code'] = 400\n",
    "            base_response['message'] = 'error: ' + str(e)\n",
    "            return jsonify(base_response)\n",
    "        \n",
    "        except Exception as e:\n",
    "            base_response['code'] = 500\n",
    "            base_response['message'] = 'error: ' + str(e)\n",
    "            return jsonify(base_response)"
   ]
  },
  {
   "cell_type": "markdown",
   "id": "55e98da3-be4e-4fde-9edc-0d43b33bff85",
   "metadata": {},
   "source": [
    "## 5) 기타 메서드"
   ]
  },
  {
   "cell_type": "code",
   "execution_count": 12,
   "id": "b1d261eb-ddf0-4ed3-9449-95a07647c6ca",
   "metadata": {},
   "outputs": [],
   "source": [
    "# 비동기 작업\n",
    "def send_analysis_result(noteId, processId, audio_path):\n",
    "    second_list = voice_strength.get_abnormal_interval('', [audio_path])\n",
    "\n",
    "    data = {\n",
    "        'id': int(noteId),\n",
    "        'process_id': str(processId),\n",
    "        'anomaly_time': second_list\n",
    "    }\n",
    "    \n",
    "    # 스프링의 /voice/analysisResult api 호출\n",
    "    try:\n",
    "        response = requests.post(\"http://REMOVED:8080/voice/analysisResult\", json=data)\n",
    "        print(f\"{datetime.now().time()} request: {data}\")\n",
    "        print(f\"{datetime.now().time()} responst: {response}\")\n",
    "        response.raise_for_status()\n",
    "    except requests.exceptions.RequestException as e:\n",
    "        print(f\"{datetime.now().time()} 결과 전송 오류: {e}\")"
   ]
  },
  {
   "cell_type": "code",
   "execution_count": 13,
   "id": "18229e34-fbbf-48a2-b685-63750942adf8",
   "metadata": {},
   "outputs": [],
   "source": [
    "def denoise(audio_data):\n",
    "    return enhance(dfn_model, df_state, audio_data)"
   ]
  },
  {
   "cell_type": "markdown",
   "id": "517ace5c-1cb4-4296-abe9-a3d04153a37d",
   "metadata": {},
   "source": [
    "## 6) 에러 핸들링"
   ]
  },
  {
   "cell_type": "code",
   "execution_count": 14,
   "id": "a6bb31c0-27aa-4e8c-84c3-de12ec2c1bd5",
   "metadata": {},
   "outputs": [],
   "source": [
    "@app.errorhandler(405)\n",
    "def internal_error(error):\n",
    "    logger.error(f\"Method Not Allowed: {str(error)}\")\n",
    "\n",
    "    base_response['code'] = 405\n",
    "    base_response['message'] = 'Method Not Allowed'\n",
    "\n",
    "    return jsonify(base_response)"
   ]
  },
  {
   "cell_type": "code",
   "execution_count": 15,
   "id": "db8b164b-08f7-40db-b6cc-1e4ec60baa8c",
   "metadata": {},
   "outputs": [],
   "source": [
    "@app.errorhandler(500)\n",
    "def internal_error(error):\n",
    "    logger.error(f\"Internal Server Error: {str(error)}\")\n",
    "    return {\"error\": \"Internal Server Error\"}, 500"
   ]
  },
  {
   "cell_type": "markdown",
   "id": "1b077203-a41d-4e2a-b9e1-73ab61ae572a",
   "metadata": {},
   "source": [
    "## 7) main"
   ]
  },
  {
   "cell_type": "code",
   "execution_count": null,
   "id": "8ad7a9cf-0d0d-4b84-bfd0-fc626bf42d39",
   "metadata": {},
   "outputs": [
    {
     "name": "stdout",
     "output_type": "stream",
     "text": [
      " * Serving Flask app '__main__'\n",
      " * Debug mode: off\n"
     ]
    },
    {
     "name": "stderr",
     "output_type": "stream",
     "text": [
      "INFO:werkzeug:\u001b[31m\u001b[1mWARNING: This is a development server. Do not use it in a production deployment. Use a production WSGI server instead.\u001b[0m\n",
      " * Running on all addresses (0.0.0.0)\n",
      " * Running on http://127.0.0.1:4998\n",
      " * Running on http://70.12.130.111:4998\n",
      "INFO:werkzeug:\u001b[33mPress CTRL+C to quit\u001b[0m\n",
      "INFO:__main__:08:03:25.031426 Downloading audio file from URI: https://timeisnullnull.s3.ap-northeast-2.amazonaws.com/wav/fa8d5ab6-5e49-43dd-911c-742f1980f6fe.wav\n",
      "INFO:__main__:08:03:25.173789  Audio file downloaded and saved to /tmp/tmpqdsytb_b\n",
      "INFO:werkzeug:127.0.0.1 - - [11/Oct/2024 08:03:25] \"\u001b[35m\u001b[1mPOST /voice/analysis HTTP/1.1\u001b[0m\" 202 -\n"
     ]
    },
    {
     "name": "stdout",
     "output_type": "stream",
     "text": [
      "08:03:25.030837 {'noteId': 47, 'objectUrl': 'https://timeisnullnull.s3.ap-northeast-2.amazonaws.com/wav/fa8d5ab6-5e49-43dd-911c-742f1980f6fe.wav', 'processId': '833e0966-da63-4829-a69e-517c6db6a469'}\n",
      "08:03:25.031405 Downloading audio file from URI: https://timeisnullnull.s3.ap-northeast-2.amazonaws.com/wav/fa8d5ab6-5e49-43dd-911c-742f1980f6fe.wav\n",
      "08:03:25.173748 Audio file downloaded and saved to /tmp/tmpqdsytb_b\n",
      "0/1: /tmp/tmpqdsytb_b pre-prossessing...\n"
     ]
    },
    {
     "name": "stderr",
     "output_type": "stream",
     "text": [
      "<string>:4: UserWarning: PySoundFile failed. Trying audioread instead.\n",
      "/home/j-j11a210/.local/lib/python3.10/site-packages/librosa/core/audio.py:184: FutureWarning: librosa.core.audio.__audioread_load\n",
      "\tDeprecated as of librosa version 0.10.0.\n",
      "\tIt will be removed in librosa version 1.0.\n",
      "  y, sr_native = __audioread_load(path, offset, duration, dtype)\n",
      "I0000 00:00:1728601406.576955 1629003 service.cc:146] XLA service 0x7f48c0004b40 initialized for platform CUDA (this does not guarantee that XLA will be used). Devices:\n",
      "I0000 00:00:1728601406.576998 1629003 service.cc:154]   StreamExecutor device (0): Tesla V100-PCIE-32GB, Compute Capability 7.0\n",
      "2024-10-11 08:03:26.583105: I tensorflow/compiler/mlir/tensorflow/utils/dump_mlir_util.cc:268] disabling MLIR crash reproducer, set env var `MLIR_CRASH_REPRODUCER_DIRECTORY` to enable.\n",
      "2024-10-11 08:03:26.604672: I external/local_xla/xla/stream_executor/cuda/cuda_dnn.cc:531] Loaded cuDNN version 90300\n"
     ]
    },
    {
     "name": "stdout",
     "output_type": "stream",
     "text": [
      "\u001b[1m1/1\u001b[0m \u001b[32m━━━━━━━━━━━━━━━━━━━━\u001b[0m\u001b[37m\u001b[0m \u001b[1m0s\u001b[0m 324ms/step\n"
     ]
    },
    {
     "name": "stderr",
     "output_type": "stream",
     "text": [
      "I0000 00:00:1728601406.825320 1629003 device_compiler.h:188] Compiled cluster using XLA!  This line is logged at most once for the lifetime of the process.\n"
     ]
    },
    {
     "name": "stdout",
     "output_type": "stream",
     "text": [
      "[]\n",
      "08:03:26.940139 request: {'id': 47, 'process_id': '833e0966-da63-4829-a69e-517c6db6a469', 'anomaly_time': []}\n",
      "08:03:26.940192 responst: <Response [500]>\n",
      "08:03:26.940226 결과 전송 오류: 500 Server Error:  for url: http://REMOVED:8080/voice/analysisResult\n"
     ]
    },
    {
     "name": "stderr",
     "output_type": "stream",
     "text": [
      "INFO:__main__:08:08:41.777469 Downloading audio file from URI: https://timeisnullnull.s3.ap-northeast-2.amazonaws.com/wav/e921604b-eca5-465a-83ec-22099782ca12.wav\n",
      "INFO:__main__:08:08:41.918135  Audio file downloaded and saved to /tmp/tmp11do_noc\n",
      "<string>:4: UserWarning: PySoundFile failed. Trying audioread instead.\n",
      "/home/j-j11a210/.local/lib/python3.10/site-packages/librosa/core/audio.py:184: FutureWarning: librosa.core.audio.__audioread_load\n",
      "\tDeprecated as of librosa version 0.10.0.\n",
      "\tIt will be removed in librosa version 1.0.\n",
      "  y, sr_native = __audioread_load(path, offset, duration, dtype)\n",
      "INFO:werkzeug:127.0.0.1 - - [11/Oct/2024 08:08:41] \"\u001b[35m\u001b[1mPOST /voice/analysis HTTP/1.1\u001b[0m\" 202 -\n"
     ]
    },
    {
     "name": "stdout",
     "output_type": "stream",
     "text": [
      "08:08:41.777160 {'noteId': 48, 'objectUrl': 'https://timeisnullnull.s3.ap-northeast-2.amazonaws.com/wav/e921604b-eca5-465a-83ec-22099782ca12.wav', 'processId': '6eb5dfa5-f32c-4dbc-9997-1d5a6e6106f1'}\n",
      "08:08:41.777451 Downloading audio file from URI: https://timeisnullnull.s3.ap-northeast-2.amazonaws.com/wav/e921604b-eca5-465a-83ec-22099782ca12.wav\n",
      "08:08:41.918087 Audio file downloaded and saved to /tmp/tmp11do_noc\n",
      "0/1: /tmp/tmp11do_noc pre-prossessing...\n",
      "\u001b[1m1/1\u001b[0m \u001b[32m━━━━━━━━━━━━━━━━━━━━\u001b[0m\u001b[37m\u001b[0m \u001b[1m0s\u001b[0m 21ms/step\n",
      "[0.8]\n",
      "08:08:42.316384 request: {'id': 48, 'process_id': '6eb5dfa5-f32c-4dbc-9997-1d5a6e6106f1', 'anomaly_time': [0.8]}\n",
      "08:08:42.316433 responst: <Response [200]>\n"
     ]
    },
    {
     "name": "stderr",
     "output_type": "stream",
     "text": [
      "INFO:__main__:08:09:15.333025 Downloading audio file from URI: https://timeisnullnull.s3.ap-northeast-2.amazonaws.com/wav/e2532680-c2ed-4601-aa7c-2bda6c06c74e.wav\n",
      "INFO:__main__:08:09:15.444013  Audio file downloaded and saved to /tmp/tmpq7xwhhos\n",
      "INFO:werkzeug:127.0.0.1 - - [11/Oct/2024 08:09:15] \"\u001b[35m\u001b[1mPOST /voice/analysis HTTP/1.1\u001b[0m\" 202 -\n",
      "<string>:4: UserWarning: PySoundFile failed. Trying audioread instead.\n",
      "/home/j-j11a210/.local/lib/python3.10/site-packages/librosa/core/audio.py:184: FutureWarning: librosa.core.audio.__audioread_load\n",
      "\tDeprecated as of librosa version 0.10.0.\n",
      "\tIt will be removed in librosa version 1.0.\n",
      "  y, sr_native = __audioread_load(path, offset, duration, dtype)\n"
     ]
    },
    {
     "name": "stdout",
     "output_type": "stream",
     "text": [
      "08:09:15.332476 {'noteId': 48, 'objectUrl': 'https://timeisnullnull.s3.ap-northeast-2.amazonaws.com/wav/e2532680-c2ed-4601-aa7c-2bda6c06c74e.wav', 'processId': '89ec7b00-b439-463d-9cd6-4706a2601699'}\n",
      "08:09:15.333006 Downloading audio file from URI: https://timeisnullnull.s3.ap-northeast-2.amazonaws.com/wav/e2532680-c2ed-4601-aa7c-2bda6c06c74e.wav\n",
      "08:09:15.443973 Audio file downloaded and saved to /tmp/tmpq7xwhhos\n",
      "0/1: /tmp/tmpq7xwhhos pre-prossessing...\n",
      "\u001b[1m1/1\u001b[0m \u001b[32m━━━━━━━━━━━━━━━━━━━━\u001b[0m\u001b[37m\u001b[0m \u001b[1m0s\u001b[0m 21ms/step\n",
      "[]\n",
      "08:09:15.788268 request: {'id': 48, 'process_id': '89ec7b00-b439-463d-9cd6-4706a2601699', 'anomaly_time': []}\n",
      "08:09:15.788318 responst: <Response [500]>\n",
      "08:09:15.788348 결과 전송 오류: 500 Server Error:  for url: http://REMOVED:8080/voice/analysisResult\n"
     ]
    },
    {
     "name": "stderr",
     "output_type": "stream",
     "text": [
      "INFO:__main__:08:09:44.663378 Downloading audio file from URI: https://timeisnullnull.s3.ap-northeast-2.amazonaws.com/wav/0cdff7f2-1c57-47eb-b55e-9081f39bca5b.wav\n",
      "INFO:__main__:08:09:44.790500  Audio file downloaded and saved to /tmp/tmp0pkasw9a\n",
      "INFO:werkzeug:127.0.0.1 - - [11/Oct/2024 08:09:44] \"\u001b[35m\u001b[1mPOST /voice/analysis HTTP/1.1\u001b[0m\" 202 -\n",
      "<string>:4: UserWarning: PySoundFile failed. Trying audioread instead.\n",
      "/home/j-j11a210/.local/lib/python3.10/site-packages/librosa/core/audio.py:184: FutureWarning: librosa.core.audio.__audioread_load\n",
      "\tDeprecated as of librosa version 0.10.0.\n",
      "\tIt will be removed in librosa version 1.0.\n",
      "  y, sr_native = __audioread_load(path, offset, duration, dtype)\n"
     ]
    },
    {
     "name": "stdout",
     "output_type": "stream",
     "text": [
      "08:09:44.662810 {'noteId': 48, 'objectUrl': 'https://timeisnullnull.s3.ap-northeast-2.amazonaws.com/wav/0cdff7f2-1c57-47eb-b55e-9081f39bca5b.wav', 'processId': 'fb126b1f-b7c9-4fa0-aa37-52af0dbf01a9'}\n",
      "08:09:44.663358 Downloading audio file from URI: https://timeisnullnull.s3.ap-northeast-2.amazonaws.com/wav/0cdff7f2-1c57-47eb-b55e-9081f39bca5b.wav\n",
      "08:09:44.790442 Audio file downloaded and saved to /tmp/tmp0pkasw9a\n",
      "0/1: /tmp/tmp0pkasw9a pre-prossessing...\n",
      "\u001b[1m1/1\u001b[0m \u001b[32m━━━━━━━━━━━━━━━━━━━━\u001b[0m\u001b[37m\u001b[0m \u001b[1m0s\u001b[0m 22ms/step\n",
      "[]\n",
      "08:09:45.148871 request: {'id': 48, 'process_id': 'fb126b1f-b7c9-4fa0-aa37-52af0dbf01a9', 'anomaly_time': []}\n",
      "08:09:45.148928 responst: <Response [500]>\n",
      "08:09:45.148958 결과 전송 오류: 500 Server Error:  for url: http://REMOVED:8080/voice/analysisResult\n"
     ]
    },
    {
     "name": "stderr",
     "output_type": "stream",
     "text": [
      "INFO:__main__:08:18:33.742627 Downloading audio file from URI: https://timeisnullnull.s3.ap-northeast-2.amazonaws.com/wav/73abfea0-91c9-4e94-b25f-7d8bf100046a.wav\n",
      "INFO:__main__:08:18:33.882410  Audio file downloaded and saved to /tmp/tmp_1pfe1ks\n",
      "INFO:werkzeug:127.0.0.1 - - [11/Oct/2024 08:18:33] \"\u001b[35m\u001b[1mPOST /voice/analysis HTTP/1.1\u001b[0m\" 202 -\n",
      "<string>:4: UserWarning: PySoundFile failed. Trying audioread instead.\n",
      "/home/j-j11a210/.local/lib/python3.10/site-packages/librosa/core/audio.py:184: FutureWarning: librosa.core.audio.__audioread_load\n",
      "\tDeprecated as of librosa version 0.10.0.\n",
      "\tIt will be removed in librosa version 1.0.\n",
      "  y, sr_native = __audioread_load(path, offset, duration, dtype)\n"
     ]
    },
    {
     "name": "stdout",
     "output_type": "stream",
     "text": [
      "08:18:33.742085 {'noteId': 48, 'objectUrl': 'https://timeisnullnull.s3.ap-northeast-2.amazonaws.com/wav/73abfea0-91c9-4e94-b25f-7d8bf100046a.wav', 'processId': 'e14ec637-ca59-4c93-888a-6fef0a5a9059'}\n",
      "08:18:33.742607 Downloading audio file from URI: https://timeisnullnull.s3.ap-northeast-2.amazonaws.com/wav/73abfea0-91c9-4e94-b25f-7d8bf100046a.wav\n",
      "08:18:33.882362 Audio file downloaded and saved to /tmp/tmp_1pfe1ks\n",
      "0/1: /tmp/tmp_1pfe1ks pre-prossessing...\n",
      "\u001b[1m1/1\u001b[0m \u001b[32m━━━━━━━━━━━━━━━━━━━━\u001b[0m\u001b[37m\u001b[0m \u001b[1m0s\u001b[0m 25ms/step\n",
      "[]\n",
      "08:18:34.232524 request: {'id': 48, 'process_id': 'e14ec637-ca59-4c93-888a-6fef0a5a9059', 'anomaly_time': []}\n",
      "08:18:34.232570 responst: <Response [200]>\n"
     ]
    },
    {
     "name": "stderr",
     "output_type": "stream",
     "text": [
      "INFO:__main__:08:33:06.306548 Downloading audio file from URI: https://timeisnullnull.s3.ap-northeast-2.amazonaws.com/wav/4b0d7d20-099f-4e6b-a894-dfddb0def091.wav\n",
      "INFO:__main__:08:33:06.472795  Audio file downloaded and saved to /tmp/tmp3krgbl8v\n",
      "<string>:4: UserWarning: PySoundFile failed. Trying audioread instead.\n",
      "/home/j-j11a210/.local/lib/python3.10/site-packages/librosa/core/audio.py:184: FutureWarning: librosa.core.audio.__audioread_load\n",
      "\tDeprecated as of librosa version 0.10.0.\n",
      "\tIt will be removed in librosa version 1.0.\n",
      "  y, sr_native = __audioread_load(path, offset, duration, dtype)\n",
      "INFO:werkzeug:127.0.0.1 - - [11/Oct/2024 08:33:06] \"\u001b[35m\u001b[1mPOST /voice/analysis HTTP/1.1\u001b[0m\" 202 -\n"
     ]
    },
    {
     "name": "stdout",
     "output_type": "stream",
     "text": [
      "08:33:06.305880 {'noteId': 49, 'objectUrl': 'https://timeisnullnull.s3.ap-northeast-2.amazonaws.com/wav/4b0d7d20-099f-4e6b-a894-dfddb0def091.wav', 'processId': '6bccae8f-ea6e-43ed-8dd9-fc8a4b38081f'}\n",
      "08:33:06.306528 Downloading audio file from URI: https://timeisnullnull.s3.ap-northeast-2.amazonaws.com/wav/4b0d7d20-099f-4e6b-a894-dfddb0def091.wav\n",
      "08:33:06.472735 Audio file downloaded and saved to /tmp/tmp3krgbl8v\n",
      "0/1: /tmp/tmp3krgbl8v pre-prossessing...\n",
      "\u001b[1m1/1\u001b[0m \u001b[32m━━━━━━━━━━━━━━━━━━━━\u001b[0m\u001b[37m\u001b[0m \u001b[1m0s\u001b[0m 22ms/step\n",
      "[14.32, 14.33, 14.34, 14.35, 14.36, 14.53]\n",
      "08:33:06.889582 request: {'id': 49, 'process_id': '6bccae8f-ea6e-43ed-8dd9-fc8a4b38081f', 'anomaly_time': [14.32, 14.33, 14.34, 14.35, 14.36, 14.53]}\n",
      "08:33:06.889630 responst: <Response [200]>\n"
     ]
    },
    {
     "name": "stderr",
     "output_type": "stream",
     "text": [
      "INFO:__main__:08:41:40.245709 Downloading audio file from URI: https://timeisnullnull.s3.ap-northeast-2.amazonaws.com/wav/27997452-16fb-41e9-9508-bae1b30018f3.wav\n",
      "INFO:__main__:08:41:40.391199  Audio file downloaded and saved to /tmp/tmpqxp3a1u7\n",
      "INFO:werkzeug:127.0.0.1 - - [11/Oct/2024 08:41:40] \"\u001b[35m\u001b[1mPOST /voice/analysis HTTP/1.1\u001b[0m\" 202 -\n",
      "<string>:4: UserWarning: PySoundFile failed. Trying audioread instead.\n",
      "/home/j-j11a210/.local/lib/python3.10/site-packages/librosa/core/audio.py:184: FutureWarning: librosa.core.audio.__audioread_load\n",
      "\tDeprecated as of librosa version 0.10.0.\n",
      "\tIt will be removed in librosa version 1.0.\n",
      "  y, sr_native = __audioread_load(path, offset, duration, dtype)\n"
     ]
    },
    {
     "name": "stdout",
     "output_type": "stream",
     "text": [
      "08:41:40.245137 {'noteId': 48, 'objectUrl': 'https://timeisnullnull.s3.ap-northeast-2.amazonaws.com/wav/27997452-16fb-41e9-9508-bae1b30018f3.wav', 'processId': '68ed0950-52c2-47a8-b46a-5bf7446ef284'}\n",
      "08:41:40.245685 Downloading audio file from URI: https://timeisnullnull.s3.ap-northeast-2.amazonaws.com/wav/27997452-16fb-41e9-9508-bae1b30018f3.wav\n",
      "08:41:40.391152 Audio file downloaded and saved to /tmp/tmpqxp3a1u7\n",
      "0/1: /tmp/tmpqxp3a1u7 pre-prossessing...\n",
      "\u001b[1m1/1\u001b[0m \u001b[32m━━━━━━━━━━━━━━━━━━━━\u001b[0m\u001b[37m\u001b[0m \u001b[1m0s\u001b[0m 29ms/step\n",
      "[]\n",
      "08:41:40.718334 request: {'id': 48, 'process_id': '68ed0950-52c2-47a8-b46a-5bf7446ef284', 'anomaly_time': []}\n",
      "08:41:40.718386 responst: <Response [200]>\n"
     ]
    },
    {
     "name": "stderr",
     "output_type": "stream",
     "text": [
      "INFO:__main__:08:55:22.809359 Downloading audio file from URI: https://timeisnullnull.s3.ap-northeast-2.amazonaws.com/wav/3aea5230-df23-47c4-9b1b-9bfb84e1924e.wav\n",
      "INFO:__main__:08:55:22.982093  Audio file downloaded and saved to /tmp/tmpiocoeqo6\n",
      "<string>:4: UserWarning: PySoundFile failed. Trying audioread instead.\n",
      "/home/j-j11a210/.local/lib/python3.10/site-packages/librosa/core/audio.py:184: FutureWarning: librosa.core.audio.__audioread_load\n",
      "\tDeprecated as of librosa version 0.10.0.\n",
      "\tIt will be removed in librosa version 1.0.\n",
      "  y, sr_native = __audioread_load(path, offset, duration, dtype)\n",
      "INFO:werkzeug:127.0.0.1 - - [11/Oct/2024 08:55:22] \"\u001b[35m\u001b[1mPOST /voice/analysis HTTP/1.1\u001b[0m\" 202 -\n"
     ]
    },
    {
     "name": "stdout",
     "output_type": "stream",
     "text": [
      "08:55:22.809080 {'noteId': 37, 'objectUrl': 'https://timeisnullnull.s3.ap-northeast-2.amazonaws.com/wav/3aea5230-df23-47c4-9b1b-9bfb84e1924e.wav', 'processId': 'f24547f5-2f7b-4422-822b-0db50b8ecc27'}\n",
      "08:55:22.809342 Downloading audio file from URI: https://timeisnullnull.s3.ap-northeast-2.amazonaws.com/wav/3aea5230-df23-47c4-9b1b-9bfb84e1924e.wav\n",
      "08:55:22.982049 Audio file downloaded and saved to /tmp/tmpiocoeqo6\n",
      "0/1: /tmp/tmpiocoeqo6 pre-prossessing...\n",
      "\u001b[1m1/1\u001b[0m \u001b[32m━━━━━━━━━━━━━━━━━━━━\u001b[0m\u001b[37m\u001b[0m \u001b[1m0s\u001b[0m 21ms/step\n",
      "[]\n",
      "08:55:23.390716 request: {'id': 37, 'process_id': 'f24547f5-2f7b-4422-822b-0db50b8ecc27', 'anomaly_time': []}\n",
      "08:55:23.390767 responst: <Response [200]>\n"
     ]
    },
    {
     "name": "stderr",
     "output_type": "stream",
     "text": [
      "INFO:__main__:09:04:03.807668 Downloading audio file from URI: https://timeisnullnull.s3.ap-northeast-2.amazonaws.com/wav/7ddf9586-18d5-4b21-98c9-cbd4d014c6bc.wav\n"
     ]
    },
    {
     "name": "stdout",
     "output_type": "stream",
     "text": [
      "09:04:03.807364 {'noteId': 37, 'objectUrl': 'https://timeisnullnull.s3.ap-northeast-2.amazonaws.com/wav/7ddf9586-18d5-4b21-98c9-cbd4d014c6bc.wav', 'processId': '3d31e41c-95f5-4671-b6d0-49049f956732'}\n",
      "09:04:03.807651 Downloading audio file from URI: https://timeisnullnull.s3.ap-northeast-2.amazonaws.com/wav/7ddf9586-18d5-4b21-98c9-cbd4d014c6bc.wav\n"
     ]
    },
    {
     "name": "stderr",
     "output_type": "stream",
     "text": [
      "INFO:__main__:09:04:04.177711  Audio file downloaded and saved to /tmp/tmpktol16l7\n",
      "INFO:werkzeug:127.0.0.1 - - [11/Oct/2024 09:04:04] \"\u001b[35m\u001b[1mPOST /voice/analysis HTTP/1.1\u001b[0m\" 202 -\n"
     ]
    },
    {
     "name": "stdout",
     "output_type": "stream",
     "text": [
      "09:04:04.177604 Audio file downloaded and saved to /tmp/tmpktol16l7\n",
      "0/1: /tmp/tmpktol16l7 pre-prossessing...\n"
     ]
    },
    {
     "name": "stderr",
     "output_type": "stream",
     "text": [
      "<string>:4: UserWarning: PySoundFile failed. Trying audioread instead.\n",
      "/home/j-j11a210/.local/lib/python3.10/site-packages/librosa/core/audio.py:184: FutureWarning: librosa.core.audio.__audioread_load\n",
      "\tDeprecated as of librosa version 0.10.0.\n",
      "\tIt will be removed in librosa version 1.0.\n",
      "  y, sr_native = __audioread_load(path, offset, duration, dtype)\n"
     ]
    },
    {
     "name": "stdout",
     "output_type": "stream",
     "text": [
      "\u001b[1m1/1\u001b[0m \u001b[32m━━━━━━━━━━━━━━━━━━━━\u001b[0m\u001b[37m\u001b[0m \u001b[1m0s\u001b[0m 367ms/step\n",
      "[]\n",
      "09:04:05.367145 request: {'id': 37, 'process_id': '3d31e41c-95f5-4671-b6d0-49049f956732', 'anomaly_time': []}\n",
      "09:04:05.367189 responst: <Response [200]>\n"
     ]
    },
    {
     "name": "stderr",
     "output_type": "stream",
     "text": [
      "INFO:__main__:09:16:39.310070 Downloading audio file from URI: https://timeisnullnull.s3.ap-northeast-2.amazonaws.com/wav/b1939b64-be7d-4654-96ec-7dbeacb95e14.wav\n"
     ]
    },
    {
     "name": "stdout",
     "output_type": "stream",
     "text": [
      "09:16:39.309521 {'noteId': 30, 'objectUrl': 'https://timeisnullnull.s3.ap-northeast-2.amazonaws.com/wav/b1939b64-be7d-4654-96ec-7dbeacb95e14.wav', 'processId': '4c5d98c1-533e-4d20-87c3-738fd0230f37'}\n",
      "09:16:39.310045 Downloading audio file from URI: https://timeisnullnull.s3.ap-northeast-2.amazonaws.com/wav/b1939b64-be7d-4654-96ec-7dbeacb95e14.wav\n"
     ]
    },
    {
     "name": "stderr",
     "output_type": "stream",
     "text": [
      "INFO:__main__:09:16:44.429410  Audio file downloaded and saved to /tmp/tmpjospkejw\n",
      "<string>:4: UserWarning: PySoundFile failed. Trying audioread instead.\n",
      "/home/j-j11a210/.local/lib/python3.10/site-packages/librosa/core/audio.py:184: FutureWarning: librosa.core.audio.__audioread_load\n",
      "\tDeprecated as of librosa version 0.10.0.\n",
      "\tIt will be removed in librosa version 1.0.\n",
      "  y, sr_native = __audioread_load(path, offset, duration, dtype)\n",
      "INFO:werkzeug:127.0.0.1 - - [11/Oct/2024 09:16:44] \"\u001b[35m\u001b[1mPOST /voice/analysis HTTP/1.1\u001b[0m\" 202 -\n"
     ]
    },
    {
     "name": "stdout",
     "output_type": "stream",
     "text": [
      "09:16:44.429284 Audio file downloaded and saved to /tmp/tmpjospkejw\n",
      "0/1: /tmp/tmpjospkejw pre-prossessing...\n",
      "\u001b[1m1/1\u001b[0m \u001b[32m━━━━━━━━━━━━━━━━━━━━\u001b[0m\u001b[37m\u001b[0m \u001b[1m0s\u001b[0m 25ms/step\n",
      "[]\n",
      "09:16:44.796902 request: {'id': 30, 'process_id': '4c5d98c1-533e-4d20-87c3-738fd0230f37', 'anomaly_time': []}\n",
      "09:16:44.796952 responst: <Response [200]>\n"
     ]
    },
    {
     "name": "stderr",
     "output_type": "stream",
     "text": [
      "INFO:__main__:09:22:21.593565 Downloading audio file from URI: https://timeisnullnull.s3.ap-northeast-2.amazonaws.com/wav/acd94fac-a116-4e5d-a829-0ba1474a5e74.wav\n",
      "INFO:__main__:09:22:21.733462  Audio file downloaded and saved to /tmp/tmput724j2z\n",
      "<string>:4: UserWarning: PySoundFile failed. Trying audioread instead.\n",
      "/home/j-j11a210/.local/lib/python3.10/site-packages/librosa/core/audio.py:184: FutureWarning: librosa.core.audio.__audioread_load\n",
      "\tDeprecated as of librosa version 0.10.0.\n",
      "\tIt will be removed in librosa version 1.0.\n",
      "  y, sr_native = __audioread_load(path, offset, duration, dtype)\n",
      "INFO:werkzeug:127.0.0.1 - - [11/Oct/2024 09:22:21] \"\u001b[35m\u001b[1mPOST /voice/analysis HTTP/1.1\u001b[0m\" 202 -\n"
     ]
    },
    {
     "name": "stdout",
     "output_type": "stream",
     "text": [
      "09:22:21.593282 {'noteId': 30, 'objectUrl': 'https://timeisnullnull.s3.ap-northeast-2.amazonaws.com/wav/acd94fac-a116-4e5d-a829-0ba1474a5e74.wav', 'processId': '53e2a755-5f9f-4693-a9c8-a5aa9a2d4f0e'}\n",
      "09:22:21.593547 Downloading audio file from URI: https://timeisnullnull.s3.ap-northeast-2.amazonaws.com/wav/acd94fac-a116-4e5d-a829-0ba1474a5e74.wav\n",
      "09:22:21.733409 Audio file downloaded and saved to /tmp/tmput724j2z\n",
      "0/1: /tmp/tmput724j2z pre-prossessing...\n",
      "\u001b[1m1/1\u001b[0m \u001b[32m━━━━━━━━━━━━━━━━━━━━\u001b[0m\u001b[37m\u001b[0m \u001b[1m0s\u001b[0m 24ms/step\n",
      "[]\n",
      "09:22:23.244534 request: {'id': 30, 'process_id': '53e2a755-5f9f-4693-a9c8-a5aa9a2d4f0e', 'anomaly_time': []}\n",
      "09:22:23.244691 responst: <Response [200]>\n"
     ]
    },
    {
     "name": "stderr",
     "output_type": "stream",
     "text": [
      "INFO:__main__:09:25:09.711300 Downloading audio file from URI: https://timeisnullnull.s3.ap-northeast-2.amazonaws.com/wav/1b450353-a088-4404-ab19-81ba73adccb5.wav\n",
      "INFO:__main__:09:25:09.829606  Audio file downloaded and saved to /tmp/tmpkru2_g7o\n",
      "INFO:werkzeug:127.0.0.1 - - [11/Oct/2024 09:25:09] \"\u001b[35m\u001b[1mPOST /voice/analysis HTTP/1.1\u001b[0m\" 202 -\n",
      "<string>:4: UserWarning: PySoundFile failed. Trying audioread instead.\n",
      "/home/j-j11a210/.local/lib/python3.10/site-packages/librosa/core/audio.py:184: FutureWarning: librosa.core.audio.__audioread_load\n",
      "\tDeprecated as of librosa version 0.10.0.\n",
      "\tIt will be removed in librosa version 1.0.\n",
      "  y, sr_native = __audioread_load(path, offset, duration, dtype)\n"
     ]
    },
    {
     "name": "stdout",
     "output_type": "stream",
     "text": [
      "09:25:09.710967 {'noteId': 30, 'objectUrl': 'https://timeisnullnull.s3.ap-northeast-2.amazonaws.com/wav/1b450353-a088-4404-ab19-81ba73adccb5.wav', 'processId': '186522a3-17ed-4476-83e7-bb3ebc124139'}\n",
      "09:25:09.711275 Downloading audio file from URI: https://timeisnullnull.s3.ap-northeast-2.amazonaws.com/wav/1b450353-a088-4404-ab19-81ba73adccb5.wav\n",
      "09:25:09.829559 Audio file downloaded and saved to /tmp/tmpkru2_g7o\n",
      "0/1: /tmp/tmpkru2_g7o pre-prossessing...\n",
      "\u001b[1m1/1\u001b[0m \u001b[32m━━━━━━━━━━━━━━━━━━━━\u001b[0m\u001b[37m\u001b[0m \u001b[1m0s\u001b[0m 34ms/step\n",
      "[]\n",
      "09:25:10.182282 request: {'id': 30, 'process_id': '186522a3-17ed-4476-83e7-bb3ebc124139', 'anomaly_time': []}\n",
      "09:25:10.182332 responst: <Response [200]>\n"
     ]
    },
    {
     "name": "stderr",
     "output_type": "stream",
     "text": [
      "INFO:__main__:09:26:15.373563 Downloading audio file from URI: https://timeisnullnull.s3.ap-northeast-2.amazonaws.com/wav/1f7beb5f-ebca-4df1-9ec3-501c107bd1b0.wav\n",
      "INFO:__main__:09:26:15.492537  Audio file downloaded and saved to /tmp/tmpj1lq26uv\n",
      "INFO:werkzeug:127.0.0.1 - - [11/Oct/2024 09:26:15] \"\u001b[35m\u001b[1mPOST /voice/analysis HTTP/1.1\u001b[0m\" 202 -\n",
      "<string>:4: UserWarning: PySoundFile failed. Trying audioread instead.\n",
      "/home/j-j11a210/.local/lib/python3.10/site-packages/librosa/core/audio.py:184: FutureWarning: librosa.core.audio.__audioread_load\n",
      "\tDeprecated as of librosa version 0.10.0.\n",
      "\tIt will be removed in librosa version 1.0.\n",
      "  y, sr_native = __audioread_load(path, offset, duration, dtype)\n"
     ]
    },
    {
     "name": "stdout",
     "output_type": "stream",
     "text": [
      "09:26:15.373275 {'noteId': 30, 'objectUrl': 'https://timeisnullnull.s3.ap-northeast-2.amazonaws.com/wav/1f7beb5f-ebca-4df1-9ec3-501c107bd1b0.wav', 'processId': 'f9344315-a583-4a38-b1bb-58a07c47ef12'}\n",
      "09:26:15.373545 Downloading audio file from URI: https://timeisnullnull.s3.ap-northeast-2.amazonaws.com/wav/1f7beb5f-ebca-4df1-9ec3-501c107bd1b0.wav\n",
      "09:26:15.492490 Audio file downloaded and saved to /tmp/tmpj1lq26uv\n",
      "0/1: /tmp/tmpj1lq26uv pre-prossessing...\n",
      "\u001b[1m1/1\u001b[0m \u001b[32m━━━━━━━━━━━━━━━━━━━━\u001b[0m\u001b[37m\u001b[0m \u001b[1m0s\u001b[0m 23ms/step\n",
      "[]\n",
      "09:26:15.960681 request: {'id': 30, 'process_id': 'f9344315-a583-4a38-b1bb-58a07c47ef12', 'anomaly_time': []}\n",
      "09:26:15.960738 responst: <Response [200]>\n"
     ]
    },
    {
     "name": "stderr",
     "output_type": "stream",
     "text": [
      "INFO:__main__:09:30:07.160230 Downloading audio file from URI: https://timeisnullnull.s3.ap-northeast-2.amazonaws.com/wav/a155dbb3-625a-4170-8c10-39eef5adf28f.wav\n",
      "INFO:__main__:09:30:07.351405  Audio file downloaded and saved to /tmp/tmpinrafchi\n",
      "<string>:4: UserWarning: PySoundFile failed. Trying audioread instead.\n",
      "/home/j-j11a210/.local/lib/python3.10/site-packages/librosa/core/audio.py:184: FutureWarning: librosa.core.audio.__audioread_load\n",
      "\tDeprecated as of librosa version 0.10.0.\n",
      "\tIt will be removed in librosa version 1.0.\n",
      "  y, sr_native = __audioread_load(path, offset, duration, dtype)\n",
      "INFO:werkzeug:127.0.0.1 - - [11/Oct/2024 09:30:07] \"\u001b[35m\u001b[1mPOST /voice/analysis HTTP/1.1\u001b[0m\" 202 -\n"
     ]
    },
    {
     "name": "stdout",
     "output_type": "stream",
     "text": [
      "09:30:07.159938 {'noteId': 50, 'objectUrl': 'https://timeisnullnull.s3.ap-northeast-2.amazonaws.com/wav/a155dbb3-625a-4170-8c10-39eef5adf28f.wav', 'processId': 'c9fe7b01-d9c7-439d-9482-ef14ef26c973'}\n",
      "09:30:07.160213 Downloading audio file from URI: https://timeisnullnull.s3.ap-northeast-2.amazonaws.com/wav/a155dbb3-625a-4170-8c10-39eef5adf28f.wav\n",
      "09:30:07.351340 Audio file downloaded and saved to /tmp/tmpinrafchi\n",
      "0/1: /tmp/tmpinrafchi pre-prossessing...\n",
      "\u001b[1m1/1\u001b[0m \u001b[32m━━━━━━━━━━━━━━━━━━━━\u001b[0m\u001b[37m\u001b[0m \u001b[1m0s\u001b[0m 179ms/step\n",
      "[]\n",
      "09:30:08.013633 request: {'id': 50, 'process_id': 'c9fe7b01-d9c7-439d-9482-ef14ef26c973', 'anomaly_time': []}\n",
      "09:30:08.013681 responst: <Response [200]>\n"
     ]
    },
    {
     "name": "stderr",
     "output_type": "stream",
     "text": [
      "INFO:__main__:09:33:00.652757 Downloading audio file from URI: https://timeisnullnull.s3.ap-northeast-2.amazonaws.com/wav/b112fca6-6f0c-4e74-930f-6b0e1225aa55.wav\n",
      "INFO:__main__:09:33:00.754294  Audio file downloaded and saved to /tmp/tmppxvcqrae\n",
      "<string>:4: UserWarning: PySoundFile failed. Trying audioread instead.\n",
      "/home/j-j11a210/.local/lib/python3.10/site-packages/librosa/core/audio.py:184: FutureWarning: librosa.core.audio.__audioread_load\n",
      "\tDeprecated as of librosa version 0.10.0.\n",
      "\tIt will be removed in librosa version 1.0.\n",
      "  y, sr_native = __audioread_load(path, offset, duration, dtype)\n",
      "INFO:werkzeug:127.0.0.1 - - [11/Oct/2024 09:33:00] \"\u001b[35m\u001b[1mPOST /voice/analysis HTTP/1.1\u001b[0m\" 202 -\n"
     ]
    },
    {
     "name": "stdout",
     "output_type": "stream",
     "text": [
      "09:33:00.652479 {'noteId': 50, 'objectUrl': 'https://timeisnullnull.s3.ap-northeast-2.amazonaws.com/wav/b112fca6-6f0c-4e74-930f-6b0e1225aa55.wav', 'processId': '6b381664-9760-475f-8396-4bfa6128c850'}\n",
      "09:33:00.652739 Downloading audio file from URI: https://timeisnullnull.s3.ap-northeast-2.amazonaws.com/wav/b112fca6-6f0c-4e74-930f-6b0e1225aa55.wav\n",
      "09:33:00.754241 Audio file downloaded and saved to /tmp/tmppxvcqrae\n",
      "0/1: /tmp/tmppxvcqrae pre-prossessing...\n",
      "\u001b[1m1/1\u001b[0m \u001b[32m━━━━━━━━━━━━━━━━━━━━\u001b[0m\u001b[37m\u001b[0m \u001b[1m0s\u001b[0m 21ms/step\n",
      "[]\n",
      "09:33:01.116079 request: {'id': 50, 'process_id': '6b381664-9760-475f-8396-4bfa6128c850', 'anomaly_time': []}\n",
      "09:33:01.116138 responst: <Response [200]>\n"
     ]
    },
    {
     "name": "stderr",
     "output_type": "stream",
     "text": [
      "INFO:__main__:09:33:13.336158 Downloading audio file from URI: https://timeisnullnull.s3.ap-northeast-2.amazonaws.com/wav/72133f66-56a4-408b-9bd4-ee7e8ea3b9fd.wav\n",
      "INFO:__main__:09:33:13.447779  Audio file downloaded and saved to /tmp/tmp8zi52jhf\n",
      "INFO:werkzeug:127.0.0.1 - - [11/Oct/2024 09:33:13] \"\u001b[35m\u001b[1mPOST /voice/analysis HTTP/1.1\u001b[0m\" 202 -\n",
      "<string>:4: UserWarning: PySoundFile failed. Trying audioread instead.\n",
      "/home/j-j11a210/.local/lib/python3.10/site-packages/librosa/core/audio.py:184: FutureWarning: librosa.core.audio.__audioread_load\n",
      "\tDeprecated as of librosa version 0.10.0.\n",
      "\tIt will be removed in librosa version 1.0.\n",
      "  y, sr_native = __audioread_load(path, offset, duration, dtype)\n"
     ]
    },
    {
     "name": "stdout",
     "output_type": "stream",
     "text": [
      "09:33:13.335716 {'noteId': 50, 'objectUrl': 'https://timeisnullnull.s3.ap-northeast-2.amazonaws.com/wav/72133f66-56a4-408b-9bd4-ee7e8ea3b9fd.wav', 'processId': 'da769a4f-8d1d-4c6a-bae4-6bb3424ecea7'}\n",
      "09:33:13.336123 Downloading audio file from URI: https://timeisnullnull.s3.ap-northeast-2.amazonaws.com/wav/72133f66-56a4-408b-9bd4-ee7e8ea3b9fd.wav\n",
      "09:33:13.447739 Audio file downloaded and saved to /tmp/tmp8zi52jhf\n",
      "0/1: /tmp/tmp8zi52jhf pre-prossessing...\n",
      "\u001b[1m1/1\u001b[0m \u001b[32m━━━━━━━━━━━━━━━━━━━━\u001b[0m\u001b[37m\u001b[0m \u001b[1m0s\u001b[0m 23ms/step\n",
      "[]\n",
      "09:33:13.791940 request: {'id': 50, 'process_id': 'da769a4f-8d1d-4c6a-bae4-6bb3424ecea7', 'anomaly_time': []}\n",
      "09:33:13.791989 responst: <Response [200]>\n"
     ]
    },
    {
     "name": "stderr",
     "output_type": "stream",
     "text": [
      "INFO:__main__:09:33:37.224982 Downloading audio file from URI: https://timeisnullnull.s3.ap-northeast-2.amazonaws.com/wav/ec97c19d-f061-46f6-a91c-15f9b793d226.wav\n",
      "INFO:__main__:09:33:37.226505 Downloading audio file from URI: https://timeisnullnull.s3.ap-northeast-2.amazonaws.com/wav/8d3b5caf-5060-4c8f-b6c9-0a16da7852ba.wav\n",
      "INFO:__main__:09:33:37.372251  Audio file downloaded and saved to /tmp/tmpa1x7s3yf\n",
      "<string>:4: UserWarning: PySoundFile failed. Trying audioread instead.\n",
      "/home/j-j11a210/.local/lib/python3.10/site-packages/librosa/core/audio.py:184: FutureWarning: librosa.core.audio.__audioread_load\n",
      "\tDeprecated as of librosa version 0.10.0.\n",
      "\tIt will be removed in librosa version 1.0.\n",
      "  y, sr_native = __audioread_load(path, offset, duration, dtype)\n",
      "INFO:werkzeug:127.0.0.1 - - [11/Oct/2024 09:33:37] \"\u001b[35m\u001b[1mPOST /voice/analysis HTTP/1.1\u001b[0m\" 202 -\n"
     ]
    },
    {
     "name": "stdout",
     "output_type": "stream",
     "text": [
      "09:33:37.224681 {'noteId': 51, 'objectUrl': 'https://timeisnullnull.s3.ap-northeast-2.amazonaws.com/wav/ec97c19d-f061-46f6-a91c-15f9b793d226.wav', 'processId': '1539864e-2467-4ba4-9b53-dfedc3b6d85c'}\n",
      "09:33:37.224964 Downloading audio file from URI: https://timeisnullnull.s3.ap-northeast-2.amazonaws.com/wav/ec97c19d-f061-46f6-a91c-15f9b793d226.wav\n",
      "09:33:37.226450 {'noteId': 51, 'objectUrl': 'https://timeisnullnull.s3.ap-northeast-2.amazonaws.com/wav/8d3b5caf-5060-4c8f-b6c9-0a16da7852ba.wav', 'processId': '4edc4da0-5955-49b2-bd29-512ad35c6406'}\n",
      "09:33:37.226494 Downloading audio file from URI: https://timeisnullnull.s3.ap-northeast-2.amazonaws.com/wav/8d3b5caf-5060-4c8f-b6c9-0a16da7852ba.wav\n",
      "09:33:37.372207 Audio file downloaded and saved to /tmp/tmpa1x7s3yf\n",
      "0/1: /tmp/tmpa1x7s3yf pre-prossessing...\n",
      "\u001b[1m1/1\u001b[0m \u001b[32m━━━━━━━━━━━━━━━━━━━━\u001b[0m\u001b[37m\u001b[0m \u001b[1m0s\u001b[0m 34ms/step\n"
     ]
    },
    {
     "name": "stderr",
     "output_type": "stream",
     "text": [
      "INFO:__main__:09:33:37.724854  Audio file downloaded and saved to /tmp/tmpc4k0mxzz\n",
      "<string>:4: UserWarning: PySoundFile failed. Trying audioread instead.\n",
      "/home/j-j11a210/.local/lib/python3.10/site-packages/librosa/core/audio.py:184: FutureWarning: librosa.core.audio.__audioread_load\n",
      "\tDeprecated as of librosa version 0.10.0.\n",
      "\tIt will be removed in librosa version 1.0.\n",
      "  y, sr_native = __audioread_load(path, offset, duration, dtype)\n",
      "INFO:werkzeug:127.0.0.1 - - [11/Oct/2024 09:33:37] \"\u001b[35m\u001b[1mPOST /voice/analysis HTTP/1.1\u001b[0m\" 202 -\n"
     ]
    },
    {
     "name": "stdout",
     "output_type": "stream",
     "text": [
      "[]\n",
      "09:33:37.724798 Audio file downloaded and saved to /tmp/tmpc4k0mxzz\n",
      "0/1: /tmp/tmpc4k0mxzz pre-prossessing...\n",
      "09:33:37.727955 request: {'id': 51, 'process_id': '1539864e-2467-4ba4-9b53-dfedc3b6d85c', 'anomaly_time': []}\n",
      "09:33:37.728010 responst: <Response [200]>\n",
      "\u001b[1m1/1\u001b[0m \u001b[32m━━━━━━━━━━━━━━━━━━━━\u001b[0m\u001b[37m\u001b[0m \u001b[1m0s\u001b[0m 27ms/step\n",
      "[]\n",
      "09:33:38.002412 request: {'id': 51, 'process_id': '4edc4da0-5955-49b2-bd29-512ad35c6406', 'anomaly_time': []}\n",
      "09:33:38.002456 responst: <Response [200]>\n"
     ]
    },
    {
     "name": "stderr",
     "output_type": "stream",
     "text": [
      "INFO:werkzeug:127.0.0.1 - - [11/Oct/2024 10:07:23] \"GET /api-docs HTTP/1.1\" 200 -\n",
      "INFO:werkzeug:127.0.0.1 - - [11/Oct/2024 10:07:23] \"\u001b[36mGET /swaggerui/swagger-ui-standalone-preset.js HTTP/1.1\u001b[0m\" 304 -\n",
      "INFO:werkzeug:127.0.0.1 - - [11/Oct/2024 10:07:23] \"\u001b[36mGET /swaggerui/droid-sans.css HTTP/1.1\u001b[0m\" 304 -\n",
      "INFO:werkzeug:127.0.0.1 - - [11/Oct/2024 10:07:23] \"\u001b[36mGET /swaggerui/swagger-ui.css HTTP/1.1\u001b[0m\" 304 -\n",
      "INFO:werkzeug:127.0.0.1 - - [11/Oct/2024 10:07:23] \"\u001b[36mGET /swaggerui/swagger-ui-bundle.js HTTP/1.1\u001b[0m\" 304 -\n",
      "INFO:werkzeug:127.0.0.1 - - [11/Oct/2024 10:07:24] \"GET /swagger.json HTTP/1.1\" 200 -\n",
      "INFO:__main__:10:09:01.261930 Downloading audio file from URI: https://timeisnullnull.s3.ap-northeast-2.amazonaws.com/wav/b321936b-661d-42a9-be4b-d119b0ec96d6.wav\n",
      "INFO:__main__:10:09:01.428161  Audio file downloaded and saved to /tmp/tmpp08l6pcw\n",
      "INFO:werkzeug:127.0.0.1 - - [11/Oct/2024 10:09:01] \"\u001b[35m\u001b[1mPOST /voice/analysis HTTP/1.1\u001b[0m\" 202 -\n",
      "<string>:4: UserWarning: PySoundFile failed. Trying audioread instead.\n",
      "/home/j-j11a210/.local/lib/python3.10/site-packages/librosa/core/audio.py:184: FutureWarning: librosa.core.audio.__audioread_load\n",
      "\tDeprecated as of librosa version 0.10.0.\n",
      "\tIt will be removed in librosa version 1.0.\n",
      "  y, sr_native = __audioread_load(path, offset, duration, dtype)\n",
      "INFO:__main__:10:09:01.450552 Downloading audio file from URI: https://timeisnullnull.s3.ap-northeast-2.amazonaws.com/wav/250d8a98-a807-4288-aeef-11edabaa7ec3.wav\n"
     ]
    },
    {
     "name": "stdout",
     "output_type": "stream",
     "text": [
      "10:09:01.261653 {'noteId': 52, 'objectUrl': 'https://timeisnullnull.s3.ap-northeast-2.amazonaws.com/wav/b321936b-661d-42a9-be4b-d119b0ec96d6.wav', 'processId': '5c91737e-e260-4fd2-91bc-b8d2ebd03550'}\n",
      "10:09:01.261911 Downloading audio file from URI: https://timeisnullnull.s3.ap-northeast-2.amazonaws.com/wav/b321936b-661d-42a9-be4b-d119b0ec96d6.wav\n",
      "10:09:01.428112 Audio file downloaded and saved to /tmp/tmpp08l6pcw\n",
      "0/1: /tmp/tmpp08l6pcw pre-prossessing...\n",
      "10:09:01.450498 {'noteId': 52, 'objectUrl': 'https://timeisnullnull.s3.ap-northeast-2.amazonaws.com/wav/250d8a98-a807-4288-aeef-11edabaa7ec3.wav', 'processId': '393f7add-dd51-498b-8ab5-a1ec574a479c'}\n",
      "10:09:01.450540 Downloading audio file from URI: https://timeisnullnull.s3.ap-northeast-2.amazonaws.com/wav/250d8a98-a807-4288-aeef-11edabaa7ec3.wav\n"
     ]
    },
    {
     "name": "stderr",
     "output_type": "stream",
     "text": [
      "INFO:__main__:10:09:01.540308  Audio file downloaded and saved to /tmp/tmp7ohdrss8\n",
      "INFO:werkzeug:127.0.0.1 - - [11/Oct/2024 10:09:01] \"\u001b[35m\u001b[1mPOST /voice/analysis HTTP/1.1\u001b[0m\" 202 -\n",
      "<string>:4: UserWarning: PySoundFile failed. Trying audioread instead.\n",
      "/home/j-j11a210/.local/lib/python3.10/site-packages/librosa/core/audio.py:184: FutureWarning: librosa.core.audio.__audioread_load\n",
      "\tDeprecated as of librosa version 0.10.0.\n",
      "\tIt will be removed in librosa version 1.0.\n",
      "  y, sr_native = __audioread_load(path, offset, duration, dtype)\n"
     ]
    },
    {
     "name": "stdout",
     "output_type": "stream",
     "text": [
      "10:09:01.540210 Audio file downloaded and saved to /tmp/tmp7ohdrss8\n",
      "0/1: /tmp/tmp7ohdrss8 pre-prossessing...\n",
      "\u001b[1m1/1\u001b[0m \u001b[32m━━━━━━━━━━━━━━━━━━━━\u001b[0m\u001b[37m\u001b[0m \u001b[1m0s\u001b[0m 22ms/step\n",
      "[]\n",
      "10:09:01.749910 request: {'id': 52, 'process_id': '5c91737e-e260-4fd2-91bc-b8d2ebd03550', 'anomaly_time': []}\n",
      "10:09:01.749980 responst: <Response [200]>\n",
      "\u001b[1m1/1\u001b[0m \u001b[32m━━━━━━━━━━━━━━━━━━━━\u001b[0m\u001b[37m\u001b[0m \u001b[1m0s\u001b[0m 21ms/step\n",
      "[]\n",
      "10:09:01.907064 request: {'id': 52, 'process_id': '393f7add-dd51-498b-8ab5-a1ec574a479c', 'anomaly_time': []}\n",
      "10:09:01.907150 responst: <Response [200]>\n"
     ]
    },
    {
     "name": "stderr",
     "output_type": "stream",
     "text": [
      "INFO:__main__:10:44:39.668290 Downloading audio file from URI: https://timeisnullnull.s3.ap-northeast-2.amazonaws.com/wav/1b495c40-1e40-412a-9846-a24039ee0e30.wav\n"
     ]
    },
    {
     "name": "stdout",
     "output_type": "stream",
     "text": [
      "10:44:39.667948 {'noteId': 52, 'objectUrl': 'https://timeisnullnull.s3.ap-northeast-2.amazonaws.com/wav/1b495c40-1e40-412a-9846-a24039ee0e30.wav', 'processId': 'e82397b1-bb28-47bc-a415-48c8fccec3ea'}\n",
      "10:44:39.668273 Downloading audio file from URI: https://timeisnullnull.s3.ap-northeast-2.amazonaws.com/wav/1b495c40-1e40-412a-9846-a24039ee0e30.wav\n"
     ]
    },
    {
     "name": "stderr",
     "output_type": "stream",
     "text": [
      "INFO:__main__:10:44:39.890488  Audio file downloaded and saved to /tmp/tmpnfp1uouh\n",
      "INFO:werkzeug:127.0.0.1 - - [11/Oct/2024 10:44:39] \"\u001b[35m\u001b[1mPOST /voice/analysis HTTP/1.1\u001b[0m\" 202 -\n",
      "<string>:4: UserWarning: PySoundFile failed. Trying audioread instead.\n",
      "/home/j-j11a210/.local/lib/python3.10/site-packages/librosa/core/audio.py:184: FutureWarning: librosa.core.audio.__audioread_load\n",
      "\tDeprecated as of librosa version 0.10.0.\n",
      "\tIt will be removed in librosa version 1.0.\n",
      "  y, sr_native = __audioread_load(path, offset, duration, dtype)\n"
     ]
    },
    {
     "name": "stdout",
     "output_type": "stream",
     "text": [
      "10:44:39.890404 Audio file downloaded and saved to /tmp/tmpnfp1uouh\n",
      "0/1: /tmp/tmpnfp1uouh pre-prossessing...\n",
      "\u001b[1m1/1\u001b[0m \u001b[32m━━━━━━━━━━━━━━━━━━━━\u001b[0m\u001b[37m\u001b[0m \u001b[1m0s\u001b[0m 27ms/step\n",
      "[32.78, 32.79, 32.8, 32.81]\n",
      "10:44:40.400702 request: {'id': 52, 'process_id': 'e82397b1-bb28-47bc-a415-48c8fccec3ea', 'anomaly_time': [32.78, 32.79, 32.8, 32.81]}\n",
      "10:44:40.400749 responst: <Response [200]>\n"
     ]
    },
    {
     "name": "stderr",
     "output_type": "stream",
     "text": [
      "INFO:__main__:10:54:08.101152 Downloading audio file from URI: https://timeisnullnull.s3.ap-northeast-2.amazonaws.com/wav/f62af019-07c9-461a-bf99-ad6c2bae6252.wav\n",
      "INFO:__main__:10:54:08.293503  Audio file downloaded and saved to /tmp/tmpdbw6pwym\n",
      "<string>:4: UserWarning: PySoundFile failed. Trying audioread instead.\n",
      "/home/j-j11a210/.local/lib/python3.10/site-packages/librosa/core/audio.py:184: FutureWarning: librosa.core.audio.__audioread_load\n",
      "\tDeprecated as of librosa version 0.10.0.\n",
      "\tIt will be removed in librosa version 1.0.\n",
      "  y, sr_native = __audioread_load(path, offset, duration, dtype)\n",
      "INFO:werkzeug:127.0.0.1 - - [11/Oct/2024 10:54:08] \"\u001b[35m\u001b[1mPOST /voice/analysis HTTP/1.1\u001b[0m\" 202 -\n"
     ]
    },
    {
     "name": "stdout",
     "output_type": "stream",
     "text": [
      "10:54:08.100425 {'noteId': 52, 'objectUrl': 'https://timeisnullnull.s3.ap-northeast-2.amazonaws.com/wav/f62af019-07c9-461a-bf99-ad6c2bae6252.wav', 'processId': '3cb88707-23b7-4696-95cb-dbd89e3c1de4'}\n",
      "10:54:08.101130 Downloading audio file from URI: https://timeisnullnull.s3.ap-northeast-2.amazonaws.com/wav/f62af019-07c9-461a-bf99-ad6c2bae6252.wav\n",
      "10:54:08.293439 Audio file downloaded and saved to /tmp/tmpdbw6pwym\n",
      "0/1: /tmp/tmpdbw6pwym pre-prossessing...\n",
      "\u001b[1m1/1\u001b[0m \u001b[32m━━━━━━━━━━━━━━━━━━━━\u001b[0m\u001b[37m\u001b[0m \u001b[1m0s\u001b[0m 34ms/step\n",
      "[]\n",
      "10:54:08.676241 request: {'id': 52, 'process_id': '3cb88707-23b7-4696-95cb-dbd89e3c1de4', 'anomaly_time': []}\n",
      "10:54:08.676289 responst: <Response [200]>\n"
     ]
    }
   ],
   "source": [
    "if __name__ == '__main__':\n",
    "    app.run(host='0.0.0.0', port=4998)"
   ]
  }
 ],
 "metadata": {
  "kernelspec": {
   "display_name": "voice_strength",
   "language": "python",
   "name": "voice_strength"
  },
  "language_info": {
   "codemirror_mode": {
    "name": "ipython",
    "version": 3
   },
   "file_extension": ".py",
   "mimetype": "text/x-python",
   "name": "python",
   "nbconvert_exporter": "python",
   "pygments_lexer": "ipython3",
   "version": "3.10.15"
  }
 },
 "nbformat": 4,
 "nbformat_minor": 5
}
